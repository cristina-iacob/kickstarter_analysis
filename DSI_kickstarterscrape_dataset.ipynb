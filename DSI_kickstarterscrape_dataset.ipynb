{
 "cells": [
  {
   "cell_type": "code",
   "execution_count": 1,
   "metadata": {},
   "outputs": [
    {
     "data": {
      "application/javascript": [
       "IPython.notebook.set_autosave_interval(180000)"
      ]
     },
     "metadata": {},
     "output_type": "display_data"
    },
    {
     "name": "stdout",
     "output_type": "stream",
     "text": [
      "Autosaving every 180 seconds\n"
     ]
    },
    {
     "data": {
      "application/javascript": [
       "\n",
       "            setTimeout(function() {\n",
       "                var nbb_cell_id = 1;\n",
       "                var nbb_unformatted_code = \"#!pip install nb_black\\n%reload_ext nb_black\\n# autosave every 3 minutes\\n%autosave 180\";\n",
       "                var nbb_formatted_code = \"#!pip install nb_black\\n%reload_ext nb_black\\n# autosave every 3 minutes\\n%autosave 180\";\n",
       "                var nbb_cells = Jupyter.notebook.get_cells();\n",
       "                for (var i = 0; i < nbb_cells.length; ++i) {\n",
       "                    if (nbb_cells[i].input_prompt_number == nbb_cell_id) {\n",
       "                        if (nbb_cells[i].get_text() == nbb_unformatted_code) {\n",
       "                             nbb_cells[i].set_text(nbb_formatted_code);\n",
       "                        }\n",
       "                        break;\n",
       "                    }\n",
       "                }\n",
       "            }, 500);\n",
       "            "
      ],
      "text/plain": [
       "<IPython.core.display.Javascript object>"
      ]
     },
     "metadata": {},
     "output_type": "display_data"
    }
   ],
   "source": [
    "#!pip install nb_black\n",
    "%reload_ext nb_black\n",
    "# autosave every 3 minutes\n",
    "%autosave 180"
   ]
  },
  {
   "cell_type": "code",
   "execution_count": 2,
   "metadata": {},
   "outputs": [
    {
     "data": {
      "application/javascript": [
       "\n",
       "            setTimeout(function() {\n",
       "                var nbb_cell_id = 2;\n",
       "                var nbb_unformatted_code = \"#!pip install plotly\\n#!pip install cufflinks\";\n",
       "                var nbb_formatted_code = \"#!pip install plotly\\n#!pip install cufflinks\";\n",
       "                var nbb_cells = Jupyter.notebook.get_cells();\n",
       "                for (var i = 0; i < nbb_cells.length; ++i) {\n",
       "                    if (nbb_cells[i].input_prompt_number == nbb_cell_id) {\n",
       "                        if (nbb_cells[i].get_text() == nbb_unformatted_code) {\n",
       "                             nbb_cells[i].set_text(nbb_formatted_code);\n",
       "                        }\n",
       "                        break;\n",
       "                    }\n",
       "                }\n",
       "            }, 500);\n",
       "            "
      ],
      "text/plain": [
       "<IPython.core.display.Javascript object>"
      ]
     },
     "metadata": {},
     "output_type": "display_data"
    }
   ],
   "source": [
    "#!pip install plotly\n",
    "#!pip install cufflinks"
   ]
  },
  {
   "cell_type": "code",
   "execution_count": 3,
   "metadata": {
    "scrolled": true
   },
   "outputs": [
    {
     "data": {
      "text/html": [
       "        <script type=\"text/javascript\">\n",
       "        window.PlotlyConfig = {MathJaxConfig: 'local'};\n",
       "        if (window.MathJax) {MathJax.Hub.Config({SVG: {font: \"STIX-Web\"}});}\n",
       "        if (typeof require !== 'undefined') {\n",
       "        require.undef(\"plotly\");\n",
       "        requirejs.config({\n",
       "            paths: {\n",
       "                'plotly': ['https://cdn.plot.ly/plotly-2.2.0.min']\n",
       "            }\n",
       "        });\n",
       "        require(['plotly'], function(Plotly) {\n",
       "            window._Plotly = Plotly;\n",
       "        });\n",
       "        }\n",
       "        </script>\n",
       "        "
      ]
     },
     "metadata": {},
     "output_type": "display_data"
    },
    {
     "data": {
      "application/javascript": [
       "\n",
       "            setTimeout(function() {\n",
       "                var nbb_cell_id = 3;\n",
       "                var nbb_unformatted_code = \"import pandas as pd\\nimport numpy as np\\nimport matplotlib.pyplot as plt\\nfrom matplotlib.ticker import PercentFormatter\\nimport seaborn as sns\\n\\nimport plotly.tools as tls\\nimport plotly\\nimport plotly.offline as py\\nfrom plotly.offline import init_notebook_mode, iplot, plot\\nimport plotly.graph_objs as go\\n\\ninit_notebook_mode(connected=True)\\n\\n%matplotlib inline\";\n",
       "                var nbb_formatted_code = \"import pandas as pd\\nimport numpy as np\\nimport matplotlib.pyplot as plt\\nfrom matplotlib.ticker import PercentFormatter\\nimport seaborn as sns\\n\\nimport plotly.tools as tls\\nimport plotly\\nimport plotly.offline as py\\nfrom plotly.offline import init_notebook_mode, iplot, plot\\nimport plotly.graph_objs as go\\n\\ninit_notebook_mode(connected=True)\\n\\n%matplotlib inline\";\n",
       "                var nbb_cells = Jupyter.notebook.get_cells();\n",
       "                for (var i = 0; i < nbb_cells.length; ++i) {\n",
       "                    if (nbb_cells[i].input_prompt_number == nbb_cell_id) {\n",
       "                        if (nbb_cells[i].get_text() == nbb_unformatted_code) {\n",
       "                             nbb_cells[i].set_text(nbb_formatted_code);\n",
       "                        }\n",
       "                        break;\n",
       "                    }\n",
       "                }\n",
       "            }, 500);\n",
       "            "
      ],
      "text/plain": [
       "<IPython.core.display.Javascript object>"
      ]
     },
     "metadata": {},
     "output_type": "display_data"
    }
   ],
   "source": [
    "import pandas as pd\n",
    "import numpy as np\n",
    "import matplotlib.pyplot as plt\n",
    "from matplotlib.ticker import PercentFormatter\n",
    "import seaborn as sns\n",
    "\n",
    "import plotly.tools as tls\n",
    "import plotly\n",
    "import plotly.offline as py\n",
    "from plotly.offline import init_notebook_mode, iplot, plot\n",
    "import plotly.graph_objs as go\n",
    "\n",
    "init_notebook_mode(connected=True)\n",
    "\n",
    "%matplotlib inline"
   ]
  },
  {
   "cell_type": "code",
   "execution_count": 4,
   "metadata": {},
   "outputs": [
    {
     "data": {
      "text/html": [
       "<div>\n",
       "<style scoped>\n",
       "    .dataframe tbody tr th:only-of-type {\n",
       "        vertical-align: middle;\n",
       "    }\n",
       "\n",
       "    .dataframe tbody tr th {\n",
       "        vertical-align: top;\n",
       "    }\n",
       "\n",
       "    .dataframe thead th {\n",
       "        text-align: right;\n",
       "    }\n",
       "</style>\n",
       "<table border=\"1\" class=\"dataframe\">\n",
       "  <thead>\n",
       "    <tr style=\"text-align: right;\">\n",
       "      <th></th>\n",
       "      <th>project id</th>\n",
       "      <th>name</th>\n",
       "      <th>url</th>\n",
       "      <th>category</th>\n",
       "      <th>subcategory</th>\n",
       "      <th>location</th>\n",
       "      <th>status</th>\n",
       "      <th>goal</th>\n",
       "      <th>pledged</th>\n",
       "      <th>funded percentage</th>\n",
       "      <th>backers</th>\n",
       "      <th>funded date</th>\n",
       "      <th>levels</th>\n",
       "      <th>reward levels</th>\n",
       "      <th>updates</th>\n",
       "      <th>comments</th>\n",
       "      <th>duration</th>\n",
       "    </tr>\n",
       "  </thead>\n",
       "  <tbody>\n",
       "    <tr>\n",
       "      <th>0</th>\n",
       "      <td>39409</td>\n",
       "      <td>WHILE THE TREES SLEEP</td>\n",
       "      <td>http://www.kickstarter.com/projects/emiliesaba...</td>\n",
       "      <td>Film &amp; Video</td>\n",
       "      <td>Short Film</td>\n",
       "      <td>Columbia, MO</td>\n",
       "      <td>successful</td>\n",
       "      <td>10500.0</td>\n",
       "      <td>11545.0</td>\n",
       "      <td>1.099524</td>\n",
       "      <td>66</td>\n",
       "      <td>Fri, 19 Aug 2011 19:28:17 -0000</td>\n",
       "      <td>7</td>\n",
       "      <td>$25,$50,$100,$250,$500,$1,000,$2,500</td>\n",
       "      <td>10</td>\n",
       "      <td>2</td>\n",
       "      <td>30.00</td>\n",
       "    </tr>\n",
       "    <tr>\n",
       "      <th>1</th>\n",
       "      <td>126581</td>\n",
       "      <td>Educational Online Trading Card Game</td>\n",
       "      <td>http://www.kickstarter.com/projects/972789543/...</td>\n",
       "      <td>Games</td>\n",
       "      <td>Board &amp; Card Games</td>\n",
       "      <td>Maplewood, NJ</td>\n",
       "      <td>failed</td>\n",
       "      <td>4000.0</td>\n",
       "      <td>20.0</td>\n",
       "      <td>0.005000</td>\n",
       "      <td>2</td>\n",
       "      <td>Mon, 02 Aug 2010 03:59:00 -0000</td>\n",
       "      <td>5</td>\n",
       "      <td>$1,$5,$10,$25,$50</td>\n",
       "      <td>6</td>\n",
       "      <td>0</td>\n",
       "      <td>47.18</td>\n",
       "    </tr>\n",
       "    <tr>\n",
       "      <th>2</th>\n",
       "      <td>138119</td>\n",
       "      <td>STRUM</td>\n",
       "      <td>http://www.kickstarter.com/projects/185476022/...</td>\n",
       "      <td>Film &amp; Video</td>\n",
       "      <td>Animation</td>\n",
       "      <td>Los Angeles, CA</td>\n",
       "      <td>live</td>\n",
       "      <td>20000.0</td>\n",
       "      <td>56.0</td>\n",
       "      <td>0.002800</td>\n",
       "      <td>3</td>\n",
       "      <td>Fri, 08 Jun 2012 00:00:31 -0000</td>\n",
       "      <td>10</td>\n",
       "      <td>$1,$10,$25,$40,$50,$100,$250,$1,000,$1,337,$9,001</td>\n",
       "      <td>1</td>\n",
       "      <td>0</td>\n",
       "      <td>28.00</td>\n",
       "    </tr>\n",
       "    <tr>\n",
       "      <th>3</th>\n",
       "      <td>237090</td>\n",
       "      <td>GETTING OVER - One son's search to finally kno...</td>\n",
       "      <td>http://www.kickstarter.com/projects/charnick/g...</td>\n",
       "      <td>Film &amp; Video</td>\n",
       "      <td>Documentary</td>\n",
       "      <td>Los Angeles, CA</td>\n",
       "      <td>successful</td>\n",
       "      <td>6000.0</td>\n",
       "      <td>6535.0</td>\n",
       "      <td>1.089167</td>\n",
       "      <td>100</td>\n",
       "      <td>Sun, 08 Apr 2012 02:14:00 -0000</td>\n",
       "      <td>13</td>\n",
       "      <td>$1,$10,$25,$30,$50,$75,$85,$100,$110,$250,$500...</td>\n",
       "      <td>4</td>\n",
       "      <td>0</td>\n",
       "      <td>32.22</td>\n",
       "    </tr>\n",
       "    <tr>\n",
       "      <th>4</th>\n",
       "      <td>246101</td>\n",
       "      <td>The Launch of FlyeGrlRoyalty &amp;quot;The New Nam...</td>\n",
       "      <td>http://www.kickstarter.com/projects/flyegrlroy...</td>\n",
       "      <td>Fashion</td>\n",
       "      <td>Fashion</td>\n",
       "      <td>Novi, MI</td>\n",
       "      <td>failed</td>\n",
       "      <td>3500.0</td>\n",
       "      <td>0.0</td>\n",
       "      <td>0.000000</td>\n",
       "      <td>0</td>\n",
       "      <td>Wed, 01 Jun 2011 15:25:39 -0000</td>\n",
       "      <td>6</td>\n",
       "      <td>$10,$25,$50,$100,$150,$250</td>\n",
       "      <td>2</td>\n",
       "      <td>0</td>\n",
       "      <td>30.00</td>\n",
       "    </tr>\n",
       "  </tbody>\n",
       "</table>\n",
       "</div>"
      ],
      "text/plain": [
       "   project id                                               name  \\\n",
       "0       39409                              WHILE THE TREES SLEEP   \n",
       "1      126581               Educational Online Trading Card Game   \n",
       "2      138119                                              STRUM   \n",
       "3      237090  GETTING OVER - One son's search to finally kno...   \n",
       "4      246101  The Launch of FlyeGrlRoyalty &quot;The New Nam...   \n",
       "\n",
       "                                                 url      category  \\\n",
       "0  http://www.kickstarter.com/projects/emiliesaba...  Film & Video   \n",
       "1  http://www.kickstarter.com/projects/972789543/...         Games   \n",
       "2  http://www.kickstarter.com/projects/185476022/...  Film & Video   \n",
       "3  http://www.kickstarter.com/projects/charnick/g...  Film & Video   \n",
       "4  http://www.kickstarter.com/projects/flyegrlroy...       Fashion   \n",
       "\n",
       "          subcategory         location      status     goal  pledged  \\\n",
       "0          Short Film     Columbia, MO  successful  10500.0  11545.0   \n",
       "1  Board & Card Games    Maplewood, NJ      failed   4000.0     20.0   \n",
       "2           Animation  Los Angeles, CA        live  20000.0     56.0   \n",
       "3         Documentary  Los Angeles, CA  successful   6000.0   6535.0   \n",
       "4             Fashion         Novi, MI      failed   3500.0      0.0   \n",
       "\n",
       "   funded percentage  backers                      funded date  levels  \\\n",
       "0           1.099524       66  Fri, 19 Aug 2011 19:28:17 -0000       7   \n",
       "1           0.005000        2  Mon, 02 Aug 2010 03:59:00 -0000       5   \n",
       "2           0.002800        3  Fri, 08 Jun 2012 00:00:31 -0000      10   \n",
       "3           1.089167      100  Sun, 08 Apr 2012 02:14:00 -0000      13   \n",
       "4           0.000000        0  Wed, 01 Jun 2011 15:25:39 -0000       6   \n",
       "\n",
       "                                       reward levels  updates  comments  \\\n",
       "0               $25,$50,$100,$250,$500,$1,000,$2,500       10         2   \n",
       "1                                  $1,$5,$10,$25,$50        6         0   \n",
       "2  $1,$10,$25,$40,$50,$100,$250,$1,000,$1,337,$9,001        1         0   \n",
       "3  $1,$10,$25,$30,$50,$75,$85,$100,$110,$250,$500...        4         0   \n",
       "4                         $10,$25,$50,$100,$150,$250        2         0   \n",
       "\n",
       "   duration  \n",
       "0     30.00  \n",
       "1     47.18  \n",
       "2     28.00  \n",
       "3     32.22  \n",
       "4     30.00  "
      ]
     },
     "execution_count": 4,
     "metadata": {},
     "output_type": "execute_result"
    },
    {
     "data": {
      "application/javascript": [
       "\n",
       "            setTimeout(function() {\n",
       "                var nbb_cell_id = 4;\n",
       "                var nbb_unformatted_code = \"# ks_df = pd.read_csv(\\\"DSI_kickstarterscrape_dataset.csv\\\", encoding=\\\"utf-8\\\")\\nks_df = pd.read_csv(\\\"data/DSI_kickstarterscrape_dataset.csv\\\", encoding=\\\"ISO-8859-1\\\")\\nks_df.head()\";\n",
       "                var nbb_formatted_code = \"# ks_df = pd.read_csv(\\\"DSI_kickstarterscrape_dataset.csv\\\", encoding=\\\"utf-8\\\")\\nks_df = pd.read_csv(\\\"data/DSI_kickstarterscrape_dataset.csv\\\", encoding=\\\"ISO-8859-1\\\")\\nks_df.head()\";\n",
       "                var nbb_cells = Jupyter.notebook.get_cells();\n",
       "                for (var i = 0; i < nbb_cells.length; ++i) {\n",
       "                    if (nbb_cells[i].input_prompt_number == nbb_cell_id) {\n",
       "                        if (nbb_cells[i].get_text() == nbb_unformatted_code) {\n",
       "                             nbb_cells[i].set_text(nbb_formatted_code);\n",
       "                        }\n",
       "                        break;\n",
       "                    }\n",
       "                }\n",
       "            }, 500);\n",
       "            "
      ],
      "text/plain": [
       "<IPython.core.display.Javascript object>"
      ]
     },
     "metadata": {},
     "output_type": "display_data"
    }
   ],
   "source": [
    "# ks_df = pd.read_csv(\"DSI_kickstarterscrape_dataset.csv\", encoding=\"utf-8\")\n",
    "ks_df = pd.read_csv(\"data/DSI_kickstarterscrape_dataset.csv\", encoding=\"ISO-8859-1\")\n",
    "ks_df.head()"
   ]
  },
  {
   "cell_type": "code",
   "execution_count": 5,
   "metadata": {},
   "outputs": [
    {
     "data": {
      "text/plain": [
       "(45957, 17)"
      ]
     },
     "execution_count": 5,
     "metadata": {},
     "output_type": "execute_result"
    },
    {
     "data": {
      "application/javascript": [
       "\n",
       "            setTimeout(function() {\n",
       "                var nbb_cell_id = 5;\n",
       "                var nbb_unformatted_code = \"ks_df.shape\";\n",
       "                var nbb_formatted_code = \"ks_df.shape\";\n",
       "                var nbb_cells = Jupyter.notebook.get_cells();\n",
       "                for (var i = 0; i < nbb_cells.length; ++i) {\n",
       "                    if (nbb_cells[i].input_prompt_number == nbb_cell_id) {\n",
       "                        if (nbb_cells[i].get_text() == nbb_unformatted_code) {\n",
       "                             nbb_cells[i].set_text(nbb_formatted_code);\n",
       "                        }\n",
       "                        break;\n",
       "                    }\n",
       "                }\n",
       "            }, 500);\n",
       "            "
      ],
      "text/plain": [
       "<IPython.core.display.Javascript object>"
      ]
     },
     "metadata": {},
     "output_type": "display_data"
    }
   ],
   "source": [
    "ks_df.shape"
   ]
  },
  {
   "cell_type": "code",
   "execution_count": 6,
   "metadata": {},
   "outputs": [
    {
     "name": "stdout",
     "output_type": "stream",
     "text": [
      "<class 'pandas.core.frame.DataFrame'>\n",
      "RangeIndex: 45957 entries, 0 to 45956\n",
      "Data columns (total 17 columns):\n",
      " #   Column             Non-Null Count  Dtype  \n",
      "---  ------             --------------  -----  \n",
      " 0   project id         45957 non-null  int64  \n",
      " 1   name               45957 non-null  object \n",
      " 2   url                45957 non-null  object \n",
      " 3   category           45957 non-null  object \n",
      " 4   subcategory        45957 non-null  object \n",
      " 5   location           44635 non-null  object \n",
      " 6   status             45957 non-null  object \n",
      " 7   goal               45957 non-null  float64\n",
      " 8   pledged            45945 non-null  float64\n",
      " 9   funded percentage  45957 non-null  float64\n",
      " 10  backers            45957 non-null  int64  \n",
      " 11  funded date        45957 non-null  object \n",
      " 12  levels             45957 non-null  int64  \n",
      " 13  reward levels      45898 non-null  object \n",
      " 14  updates            45957 non-null  int64  \n",
      " 15  comments           45957 non-null  int64  \n",
      " 16  duration           45957 non-null  float64\n",
      "dtypes: float64(4), int64(5), object(8)\n",
      "memory usage: 6.0+ MB\n"
     ]
    },
    {
     "data": {
      "application/javascript": [
       "\n",
       "            setTimeout(function() {\n",
       "                var nbb_cell_id = 6;\n",
       "                var nbb_unformatted_code = \"ks_df.info()\";\n",
       "                var nbb_formatted_code = \"ks_df.info()\";\n",
       "                var nbb_cells = Jupyter.notebook.get_cells();\n",
       "                for (var i = 0; i < nbb_cells.length; ++i) {\n",
       "                    if (nbb_cells[i].input_prompt_number == nbb_cell_id) {\n",
       "                        if (nbb_cells[i].get_text() == nbb_unformatted_code) {\n",
       "                             nbb_cells[i].set_text(nbb_formatted_code);\n",
       "                        }\n",
       "                        break;\n",
       "                    }\n",
       "                }\n",
       "            }, 500);\n",
       "            "
      ],
      "text/plain": [
       "<IPython.core.display.Javascript object>"
      ]
     },
     "metadata": {},
     "output_type": "display_data"
    }
   ],
   "source": [
    "ks_df.info()"
   ]
  },
  {
   "cell_type": "code",
   "execution_count": 7,
   "metadata": {},
   "outputs": [
    {
     "data": {
      "text/plain": [
       "project id              0\n",
       "name                    0\n",
       "url                     0\n",
       "category                0\n",
       "subcategory             0\n",
       "location             1322\n",
       "status                  0\n",
       "goal                    0\n",
       "pledged                12\n",
       "funded percentage       0\n",
       "backers                 0\n",
       "funded date             0\n",
       "levels                  0\n",
       "reward levels          59\n",
       "updates                 0\n",
       "comments                0\n",
       "duration                0\n",
       "dtype: int64"
      ]
     },
     "execution_count": 7,
     "metadata": {},
     "output_type": "execute_result"
    },
    {
     "data": {
      "application/javascript": [
       "\n",
       "            setTimeout(function() {\n",
       "                var nbb_cell_id = 7;\n",
       "                var nbb_unformatted_code = \"ks_df.isnull().sum()\";\n",
       "                var nbb_formatted_code = \"ks_df.isnull().sum()\";\n",
       "                var nbb_cells = Jupyter.notebook.get_cells();\n",
       "                for (var i = 0; i < nbb_cells.length; ++i) {\n",
       "                    if (nbb_cells[i].input_prompt_number == nbb_cell_id) {\n",
       "                        if (nbb_cells[i].get_text() == nbb_unformatted_code) {\n",
       "                             nbb_cells[i].set_text(nbb_formatted_code);\n",
       "                        }\n",
       "                        break;\n",
       "                    }\n",
       "                }\n",
       "            }, 500);\n",
       "            "
      ],
      "text/plain": [
       "<IPython.core.display.Javascript object>"
      ]
     },
     "metadata": {},
     "output_type": "display_data"
    }
   ],
   "source": [
    "ks_df.isnull().sum()"
   ]
  },
  {
   "cell_type": "markdown",
   "metadata": {},
   "source": [
    "There are 12 missing values for pledged data, 59 for reward_levels and 1322 for location."
   ]
  },
  {
   "cell_type": "code",
   "execution_count": 8,
   "metadata": {},
   "outputs": [
    {
     "data": {
      "text/html": [
       "<div>\n",
       "<style scoped>\n",
       "    .dataframe tbody tr th:only-of-type {\n",
       "        vertical-align: middle;\n",
       "    }\n",
       "\n",
       "    .dataframe tbody tr th {\n",
       "        vertical-align: top;\n",
       "    }\n",
       "\n",
       "    .dataframe thead th {\n",
       "        text-align: right;\n",
       "    }\n",
       "</style>\n",
       "<table border=\"1\" class=\"dataframe\">\n",
       "  <thead>\n",
       "    <tr style=\"text-align: right;\">\n",
       "      <th></th>\n",
       "      <th>project id</th>\n",
       "      <th>goal</th>\n",
       "      <th>pledged</th>\n",
       "      <th>funded percentage</th>\n",
       "      <th>backers</th>\n",
       "      <th>levels</th>\n",
       "      <th>updates</th>\n",
       "      <th>comments</th>\n",
       "      <th>duration</th>\n",
       "    </tr>\n",
       "  </thead>\n",
       "  <tbody>\n",
       "    <tr>\n",
       "      <th>count</th>\n",
       "      <td>4.595700e+04</td>\n",
       "      <td>4.595700e+04</td>\n",
       "      <td>4.594500e+04</td>\n",
       "      <td>45957.000000</td>\n",
       "      <td>45957.000000</td>\n",
       "      <td>45957.000000</td>\n",
       "      <td>45957.00000</td>\n",
       "      <td>45957.000000</td>\n",
       "      <td>45957.000000</td>\n",
       "    </tr>\n",
       "    <tr>\n",
       "      <th>mean</th>\n",
       "      <td>1.080800e+09</td>\n",
       "      <td>1.194271e+04</td>\n",
       "      <td>4.980750e+03</td>\n",
       "      <td>1.850129</td>\n",
       "      <td>69.973192</td>\n",
       "      <td>8.004939</td>\n",
       "      <td>4.08508</td>\n",
       "      <td>8.379529</td>\n",
       "      <td>39.995547</td>\n",
       "    </tr>\n",
       "    <tr>\n",
       "      <th>std</th>\n",
       "      <td>6.218057e+08</td>\n",
       "      <td>1.887583e+05</td>\n",
       "      <td>5.674162e+04</td>\n",
       "      <td>88.492706</td>\n",
       "      <td>688.628479</td>\n",
       "      <td>4.233907</td>\n",
       "      <td>6.43922</td>\n",
       "      <td>174.015737</td>\n",
       "      <td>17.414458</td>\n",
       "    </tr>\n",
       "    <tr>\n",
       "      <th>min</th>\n",
       "      <td>3.940900e+04</td>\n",
       "      <td>1.000000e-02</td>\n",
       "      <td>0.000000e+00</td>\n",
       "      <td>0.000000</td>\n",
       "      <td>0.000000</td>\n",
       "      <td>0.000000</td>\n",
       "      <td>0.00000</td>\n",
       "      <td>0.000000</td>\n",
       "      <td>1.000000</td>\n",
       "    </tr>\n",
       "    <tr>\n",
       "      <th>25%</th>\n",
       "      <td>5.438962e+08</td>\n",
       "      <td>1.800000e+03</td>\n",
       "      <td>1.960000e+02</td>\n",
       "      <td>0.044000</td>\n",
       "      <td>5.000000</td>\n",
       "      <td>5.000000</td>\n",
       "      <td>0.00000</td>\n",
       "      <td>0.000000</td>\n",
       "      <td>30.000000</td>\n",
       "    </tr>\n",
       "    <tr>\n",
       "      <th>50%</th>\n",
       "      <td>1.078345e+09</td>\n",
       "      <td>4.000000e+03</td>\n",
       "      <td>1.310000e+03</td>\n",
       "      <td>1.000000</td>\n",
       "      <td>23.000000</td>\n",
       "      <td>7.000000</td>\n",
       "      <td>2.00000</td>\n",
       "      <td>0.000000</td>\n",
       "      <td>32.000000</td>\n",
       "    </tr>\n",
       "    <tr>\n",
       "      <th>75%</th>\n",
       "      <td>1.621596e+09</td>\n",
       "      <td>9.862000e+03</td>\n",
       "      <td>4.165000e+03</td>\n",
       "      <td>1.115640</td>\n",
       "      <td>59.000000</td>\n",
       "      <td>10.000000</td>\n",
       "      <td>6.00000</td>\n",
       "      <td>3.000000</td>\n",
       "      <td>48.390000</td>\n",
       "    </tr>\n",
       "    <tr>\n",
       "      <th>max</th>\n",
       "      <td>2.147460e+09</td>\n",
       "      <td>2.147484e+07</td>\n",
       "      <td>1.026684e+07</td>\n",
       "      <td>15066.000000</td>\n",
       "      <td>87142.000000</td>\n",
       "      <td>80.000000</td>\n",
       "      <td>149.00000</td>\n",
       "      <td>19311.000000</td>\n",
       "      <td>91.960000</td>\n",
       "    </tr>\n",
       "  </tbody>\n",
       "</table>\n",
       "</div>"
      ],
      "text/plain": [
       "         project id          goal       pledged  funded percentage  \\\n",
       "count  4.595700e+04  4.595700e+04  4.594500e+04       45957.000000   \n",
       "mean   1.080800e+09  1.194271e+04  4.980750e+03           1.850129   \n",
       "std    6.218057e+08  1.887583e+05  5.674162e+04          88.492706   \n",
       "min    3.940900e+04  1.000000e-02  0.000000e+00           0.000000   \n",
       "25%    5.438962e+08  1.800000e+03  1.960000e+02           0.044000   \n",
       "50%    1.078345e+09  4.000000e+03  1.310000e+03           1.000000   \n",
       "75%    1.621596e+09  9.862000e+03  4.165000e+03           1.115640   \n",
       "max    2.147460e+09  2.147484e+07  1.026684e+07       15066.000000   \n",
       "\n",
       "            backers        levels      updates      comments      duration  \n",
       "count  45957.000000  45957.000000  45957.00000  45957.000000  45957.000000  \n",
       "mean      69.973192      8.004939      4.08508      8.379529     39.995547  \n",
       "std      688.628479      4.233907      6.43922    174.015737     17.414458  \n",
       "min        0.000000      0.000000      0.00000      0.000000      1.000000  \n",
       "25%        5.000000      5.000000      0.00000      0.000000     30.000000  \n",
       "50%       23.000000      7.000000      2.00000      0.000000     32.000000  \n",
       "75%       59.000000     10.000000      6.00000      3.000000     48.390000  \n",
       "max    87142.000000     80.000000    149.00000  19311.000000     91.960000  "
      ]
     },
     "execution_count": 8,
     "metadata": {},
     "output_type": "execute_result"
    },
    {
     "data": {
      "application/javascript": [
       "\n",
       "            setTimeout(function() {\n",
       "                var nbb_cell_id = 8;\n",
       "                var nbb_unformatted_code = \"ks_df.describe()\";\n",
       "                var nbb_formatted_code = \"ks_df.describe()\";\n",
       "                var nbb_cells = Jupyter.notebook.get_cells();\n",
       "                for (var i = 0; i < nbb_cells.length; ++i) {\n",
       "                    if (nbb_cells[i].input_prompt_number == nbb_cell_id) {\n",
       "                        if (nbb_cells[i].get_text() == nbb_unformatted_code) {\n",
       "                             nbb_cells[i].set_text(nbb_formatted_code);\n",
       "                        }\n",
       "                        break;\n",
       "                    }\n",
       "                }\n",
       "            }, 500);\n",
       "            "
      ],
      "text/plain": [
       "<IPython.core.display.Javascript object>"
      ]
     },
     "metadata": {},
     "output_type": "display_data"
    }
   ],
   "source": [
    "ks_df.describe()"
   ]
  },
  {
   "cell_type": "markdown",
   "metadata": {},
   "source": [
    "#### 1. What is the mean (total) pledge that projects get?"
   ]
  },
  {
   "cell_type": "code",
   "execution_count": 9,
   "metadata": {},
   "outputs": [
    {
     "data": {
      "text/plain": [
       "4980.75"
      ]
     },
     "execution_count": 9,
     "metadata": {},
     "output_type": "execute_result"
    },
    {
     "data": {
      "application/javascript": [
       "\n",
       "            setTimeout(function() {\n",
       "                var nbb_cell_id = 9;\n",
       "                var nbb_unformatted_code = \"pledged_mean = round(ks_df[\\\"pledged\\\"].mean(), 2)\\npledged_mean\";\n",
       "                var nbb_formatted_code = \"pledged_mean = round(ks_df[\\\"pledged\\\"].mean(), 2)\\npledged_mean\";\n",
       "                var nbb_cells = Jupyter.notebook.get_cells();\n",
       "                for (var i = 0; i < nbb_cells.length; ++i) {\n",
       "                    if (nbb_cells[i].input_prompt_number == nbb_cell_id) {\n",
       "                        if (nbb_cells[i].get_text() == nbb_unformatted_code) {\n",
       "                             nbb_cells[i].set_text(nbb_formatted_code);\n",
       "                        }\n",
       "                        break;\n",
       "                    }\n",
       "                }\n",
       "            }, 500);\n",
       "            "
      ],
      "text/plain": [
       "<IPython.core.display.Javascript object>"
      ]
     },
     "metadata": {},
     "output_type": "display_data"
    }
   ],
   "source": [
    "pledged_mean = round(ks_df[\"pledged\"].mean(), 2)\n",
    "pledged_mean"
   ]
  },
  {
   "cell_type": "markdown",
   "metadata": {},
   "source": [
    "#### 2. Create a histogram that shows the distribution for number of backers. What is the skew of the distribution?"
   ]
  },
  {
   "cell_type": "code",
   "execution_count": 10,
   "metadata": {},
   "outputs": [
    {
     "data": {
      "image/png": "[encoded data removed]",
      "text/plain": [
       "<Figure size 864x360 with 1 Axes>"
      ]
     },
     "metadata": {
      "needs_background": "light"
     },
     "output_type": "display_data"
    },
    {
     "data": {
      "application/javascript": [
       "\n",
       "            setTimeout(function() {\n",
       "                var nbb_cell_id = 10;\n",
       "                var nbb_unformatted_code = \"plt.figure(figsize=(12, 5))\\nsns.histplot(ks_df[\\\"backers\\\"], kde=True, bins=100)\\nplt.xlabel(\\\"Backers\\\")\\nplt.ylabel(\\\"Frequency\\\")\\nplt.title(\\\"Distribution of Project Backers\\\")\\nplt.show()\";\n",
       "                var nbb_formatted_code = \"plt.figure(figsize=(12, 5))\\nsns.histplot(ks_df[\\\"backers\\\"], kde=True, bins=100)\\nplt.xlabel(\\\"Backers\\\")\\nplt.ylabel(\\\"Frequency\\\")\\nplt.title(\\\"Distribution of Project Backers\\\")\\nplt.show()\";\n",
       "                var nbb_cells = Jupyter.notebook.get_cells();\n",
       "                for (var i = 0; i < nbb_cells.length; ++i) {\n",
       "                    if (nbb_cells[i].input_prompt_number == nbb_cell_id) {\n",
       "                        if (nbb_cells[i].get_text() == nbb_unformatted_code) {\n",
       "                             nbb_cells[i].set_text(nbb_formatted_code);\n",
       "                        }\n",
       "                        break;\n",
       "                    }\n",
       "                }\n",
       "            }, 500);\n",
       "            "
      ],
      "text/plain": [
       "<IPython.core.display.Javascript object>"
      ]
     },
     "metadata": {},
     "output_type": "display_data"
    }
   ],
   "source": [
    "plt.figure(figsize=(12, 5))\n",
    "sns.histplot(ks_df[\"backers\"], kde=True, bins=100)\n",
    "plt.xlabel(\"Backers\")\n",
    "plt.ylabel(\"Frequency\")\n",
    "plt.title(\"Distribution of Project Backers\")\n",
    "plt.show()"
   ]
  },
  {
   "cell_type": "code",
   "execution_count": 11,
   "metadata": {},
   "outputs": [
    {
     "data": {
      "text/plain": [
       "count    45957.000000\n",
       "mean        69.973192\n",
       "std        688.628479\n",
       "min          0.000000\n",
       "25%          5.000000\n",
       "50%         23.000000\n",
       "75%         59.000000\n",
       "max      87142.000000\n",
       "Name: backers, dtype: float64"
      ]
     },
     "execution_count": 11,
     "metadata": {},
     "output_type": "execute_result"
    },
    {
     "data": {
      "application/javascript": [
       "\n",
       "            setTimeout(function() {\n",
       "                var nbb_cell_id = 11;\n",
       "                var nbb_unformatted_code = \"ks_df[\\\"backers\\\"].describe()\";\n",
       "                var nbb_formatted_code = \"ks_df[\\\"backers\\\"].describe()\";\n",
       "                var nbb_cells = Jupyter.notebook.get_cells();\n",
       "                for (var i = 0; i < nbb_cells.length; ++i) {\n",
       "                    if (nbb_cells[i].input_prompt_number == nbb_cell_id) {\n",
       "                        if (nbb_cells[i].get_text() == nbb_unformatted_code) {\n",
       "                             nbb_cells[i].set_text(nbb_formatted_code);\n",
       "                        }\n",
       "                        break;\n",
       "                    }\n",
       "                }\n",
       "            }, 500);\n",
       "            "
      ],
      "text/plain": [
       "<IPython.core.display.Javascript object>"
      ]
     },
     "metadata": {},
     "output_type": "display_data"
    }
   ],
   "source": [
    "ks_df[\"backers\"].describe()"
   ]
  },
  {
   "cell_type": "code",
   "execution_count": 12,
   "metadata": {},
   "outputs": [
    {
     "data": {
      "text/plain": [
       "project id            -0.006630\n",
       "goal                 101.512992\n",
       "pledged              138.501466\n",
       "funded percentage    140.811735\n",
       "backers               87.473974\n",
       "levels                 2.573258\n",
       "updates                4.002831\n",
       "comments              69.315678\n",
       "duration               1.078027\n",
       "dtype: float64"
      ]
     },
     "execution_count": 12,
     "metadata": {},
     "output_type": "execute_result"
    },
    {
     "data": {
      "application/javascript": [
       "\n",
       "            setTimeout(function() {\n",
       "                var nbb_cell_id = 12;\n",
       "                var nbb_unformatted_code = \"ks_df.skew(axis=0, skipna=True)\";\n",
       "                var nbb_formatted_code = \"ks_df.skew(axis=0, skipna=True)\";\n",
       "                var nbb_cells = Jupyter.notebook.get_cells();\n",
       "                for (var i = 0; i < nbb_cells.length; ++i) {\n",
       "                    if (nbb_cells[i].input_prompt_number == nbb_cell_id) {\n",
       "                        if (nbb_cells[i].get_text() == nbb_unformatted_code) {\n",
       "                             nbb_cells[i].set_text(nbb_formatted_code);\n",
       "                        }\n",
       "                        break;\n",
       "                    }\n",
       "                }\n",
       "            }, 500);\n",
       "            "
      ],
      "text/plain": [
       "<IPython.core.display.Javascript object>"
      ]
     },
     "metadata": {},
     "output_type": "display_data"
    }
   ],
   "source": [
    "ks_df.skew(axis=0, skipna=True)"
   ]
  },
  {
   "cell_type": "code",
   "execution_count": 13,
   "metadata": {},
   "outputs": [
    {
     "name": "stdout",
     "output_type": "stream",
     "text": [
      "Skewness:\n",
      "87.47\n"
     ]
    },
    {
     "data": {
      "application/javascript": [
       "\n",
       "            setTimeout(function() {\n",
       "                var nbb_cell_id = 13;\n",
       "                var nbb_unformatted_code = \"backers_skewness = ks_df[\\\"backers\\\"].skew()\\n\\nprint(\\\"Skewness:\\\")\\nprint(round(backers_skewness, 2))\";\n",
       "                var nbb_formatted_code = \"backers_skewness = ks_df[\\\"backers\\\"].skew()\\n\\nprint(\\\"Skewness:\\\")\\nprint(round(backers_skewness, 2))\";\n",
       "                var nbb_cells = Jupyter.notebook.get_cells();\n",
       "                for (var i = 0; i < nbb_cells.length; ++i) {\n",
       "                    if (nbb_cells[i].input_prompt_number == nbb_cell_id) {\n",
       "                        if (nbb_cells[i].get_text() == nbb_unformatted_code) {\n",
       "                             nbb_cells[i].set_text(nbb_formatted_code);\n",
       "                        }\n",
       "                        break;\n",
       "                    }\n",
       "                }\n",
       "            }, 500);\n",
       "            "
      ],
      "text/plain": [
       "<IPython.core.display.Javascript object>"
      ]
     },
     "metadata": {},
     "output_type": "display_data"
    }
   ],
   "source": [
    "backers_skewness = ks_df[\"backers\"].skew()\n",
    "\n",
    "print(\"Skewness:\")\n",
    "print(round(backers_skewness, 2))"
   ]
  },
  {
   "cell_type": "markdown",
   "metadata": {},
   "source": [
    "There are lots of otliers which I will eliminate usint the IQR method."
   ]
  },
  {
   "cell_type": "code",
   "execution_count": 14,
   "metadata": {},
   "outputs": [
    {
     "data": {
      "text/plain": [
       "(5.0, 59.0, 54.0)"
      ]
     },
     "execution_count": 14,
     "metadata": {},
     "output_type": "execute_result"
    },
    {
     "data": {
      "application/javascript": [
       "\n",
       "            setTimeout(function() {\n",
       "                var nbb_cell_id = 14;\n",
       "                var nbb_unformatted_code = \"# calculate 25% and 75% quartiles and IQR = Q3-Q1\\nQ1 = ks_df.backers.quantile(0.25)\\nQ3 = ks_df.backers.quantile(0.75)\\nIQR = Q3 - Q1\\nQ1, Q3, IQR\";\n",
       "                var nbb_formatted_code = \"# calculate 25% and 75% quartiles and IQR = Q3-Q1\\nQ1 = ks_df.backers.quantile(0.25)\\nQ3 = ks_df.backers.quantile(0.75)\\nIQR = Q3 - Q1\\nQ1, Q3, IQR\";\n",
       "                var nbb_cells = Jupyter.notebook.get_cells();\n",
       "                for (var i = 0; i < nbb_cells.length; ++i) {\n",
       "                    if (nbb_cells[i].input_prompt_number == nbb_cell_id) {\n",
       "                        if (nbb_cells[i].get_text() == nbb_unformatted_code) {\n",
       "                             nbb_cells[i].set_text(nbb_formatted_code);\n",
       "                        }\n",
       "                        break;\n",
       "                    }\n",
       "                }\n",
       "            }, 500);\n",
       "            "
      ],
      "text/plain": [
       "<IPython.core.display.Javascript object>"
      ]
     },
     "metadata": {},
     "output_type": "display_data"
    }
   ],
   "source": [
    "# calculate 25% and 75% quartiles and IQR = Q3-Q1\n",
    "Q1 = ks_df.backers.quantile(0.25)\n",
    "Q3 = ks_df.backers.quantile(0.75)\n",
    "IQR = Q3 - Q1\n",
    "Q1, Q3, IQR"
   ]
  },
  {
   "cell_type": "code",
   "execution_count": 15,
   "metadata": {},
   "outputs": [
    {
     "data": {
      "text/plain": [
       "(-76.0, 140.0)"
      ]
     },
     "execution_count": 15,
     "metadata": {},
     "output_type": "execute_result"
    },
    {
     "data": {
      "application/javascript": [
       "\n",
       "            setTimeout(function() {\n",
       "                var nbb_cell_id = 15;\n",
       "                var nbb_unformatted_code = \"# calculate min and max thresholds\\nlower_limit = Q1 - 1.5 * IQR\\nupper_limit = Q3 + 1.5 * IQR\\nlower_limit, upper_limit\";\n",
       "                var nbb_formatted_code = \"# calculate min and max thresholds\\nlower_limit = Q1 - 1.5 * IQR\\nupper_limit = Q3 + 1.5 * IQR\\nlower_limit, upper_limit\";\n",
       "                var nbb_cells = Jupyter.notebook.get_cells();\n",
       "                for (var i = 0; i < nbb_cells.length; ++i) {\n",
       "                    if (nbb_cells[i].input_prompt_number == nbb_cell_id) {\n",
       "                        if (nbb_cells[i].get_text() == nbb_unformatted_code) {\n",
       "                             nbb_cells[i].set_text(nbb_formatted_code);\n",
       "                        }\n",
       "                        break;\n",
       "                    }\n",
       "                }\n",
       "            }, 500);\n",
       "            "
      ],
      "text/plain": [
       "<IPython.core.display.Javascript object>"
      ]
     },
     "metadata": {},
     "output_type": "display_data"
    }
   ],
   "source": [
    "# calculate min and max thresholds\n",
    "lower_limit = Q1 - 1.5 * IQR\n",
    "upper_limit = Q3 + 1.5 * IQR\n",
    "lower_limit, upper_limit"
   ]
  },
  {
   "cell_type": "code",
   "execution_count": 16,
   "metadata": {
    "scrolled": true
   },
   "outputs": [
    {
     "data": {
      "text/html": [
       "<div>\n",
       "<style scoped>\n",
       "    .dataframe tbody tr th:only-of-type {\n",
       "        vertical-align: middle;\n",
       "    }\n",
       "\n",
       "    .dataframe tbody tr th {\n",
       "        vertical-align: top;\n",
       "    }\n",
       "\n",
       "    .dataframe thead th {\n",
       "        text-align: right;\n",
       "    }\n",
       "</style>\n",
       "<table border=\"1\" class=\"dataframe\">\n",
       "  <thead>\n",
       "    <tr style=\"text-align: right;\">\n",
       "      <th></th>\n",
       "      <th>project id</th>\n",
       "      <th>name</th>\n",
       "      <th>url</th>\n",
       "      <th>category</th>\n",
       "      <th>subcategory</th>\n",
       "      <th>location</th>\n",
       "      <th>status</th>\n",
       "      <th>goal</th>\n",
       "      <th>pledged</th>\n",
       "      <th>funded percentage</th>\n",
       "      <th>backers</th>\n",
       "      <th>funded date</th>\n",
       "      <th>levels</th>\n",
       "      <th>reward levels</th>\n",
       "      <th>updates</th>\n",
       "      <th>comments</th>\n",
       "      <th>duration</th>\n",
       "    </tr>\n",
       "  </thead>\n",
       "  <tbody>\n",
       "    <tr>\n",
       "      <th>0</th>\n",
       "      <td>39409</td>\n",
       "      <td>WHILE THE TREES SLEEP</td>\n",
       "      <td>http://www.kickstarter.com/projects/emiliesaba...</td>\n",
       "      <td>Film &amp; Video</td>\n",
       "      <td>Short Film</td>\n",
       "      <td>Columbia, MO</td>\n",
       "      <td>successful</td>\n",
       "      <td>10500.0</td>\n",
       "      <td>11545.0</td>\n",
       "      <td>1.099524</td>\n",
       "      <td>66</td>\n",
       "      <td>Fri, 19 Aug 2011 19:28:17 -0000</td>\n",
       "      <td>7</td>\n",
       "      <td>$25,$50,$100,$250,$500,$1,000,$2,500</td>\n",
       "      <td>10</td>\n",
       "      <td>2</td>\n",
       "      <td>30.00</td>\n",
       "    </tr>\n",
       "    <tr>\n",
       "      <th>1</th>\n",
       "      <td>126581</td>\n",
       "      <td>Educational Online Trading Card Game</td>\n",
       "      <td>http://www.kickstarter.com/projects/972789543/...</td>\n",
       "      <td>Games</td>\n",
       "      <td>Board &amp; Card Games</td>\n",
       "      <td>Maplewood, NJ</td>\n",
       "      <td>failed</td>\n",
       "      <td>4000.0</td>\n",
       "      <td>20.0</td>\n",
       "      <td>0.005000</td>\n",
       "      <td>2</td>\n",
       "      <td>Mon, 02 Aug 2010 03:59:00 -0000</td>\n",
       "      <td>5</td>\n",
       "      <td>$1,$5,$10,$25,$50</td>\n",
       "      <td>6</td>\n",
       "      <td>0</td>\n",
       "      <td>47.18</td>\n",
       "    </tr>\n",
       "  </tbody>\n",
       "</table>\n",
       "</div>"
      ],
      "text/plain": [
       "   project id                                  name  \\\n",
       "0       39409                 WHILE THE TREES SLEEP   \n",
       "1      126581  Educational Online Trading Card Game   \n",
       "\n",
       "                                                 url      category  \\\n",
       "0  http://www.kickstarter.com/projects/emiliesaba...  Film & Video   \n",
       "1  http://www.kickstarter.com/projects/972789543/...         Games   \n",
       "\n",
       "          subcategory       location      status     goal  pledged  \\\n",
       "0          Short Film   Columbia, MO  successful  10500.0  11545.0   \n",
       "1  Board & Card Games  Maplewood, NJ      failed   4000.0     20.0   \n",
       "\n",
       "   funded percentage  backers                      funded date  levels  \\\n",
       "0           1.099524       66  Fri, 19 Aug 2011 19:28:17 -0000       7   \n",
       "1           0.005000        2  Mon, 02 Aug 2010 03:59:00 -0000       5   \n",
       "\n",
       "                          reward levels  updates  comments  duration  \n",
       "0  $25,$50,$100,$250,$500,$1,000,$2,500       10         2     30.00  \n",
       "1                     $1,$5,$10,$25,$50        6         0     47.18  "
      ]
     },
     "execution_count": 16,
     "metadata": {},
     "output_type": "execute_result"
    },
    {
     "data": {
      "application/javascript": [
       "\n",
       "            setTimeout(function() {\n",
       "                var nbb_cell_id = 16;\n",
       "                var nbb_unformatted_code = \"# outliers\\n# ks_df[(ks_df.backers < lower_limit) | (ks_df.backers > upper_limit)]\\n\\n# dataframe w/o outliers\\ndf_no_outlier = ks_df[(ks_df.backers > lower_limit) & (ks_df.backers < upper_limit)]\\ndf_no_outlier.head(2)\";\n",
       "                var nbb_formatted_code = \"# outliers\\n# ks_df[(ks_df.backers < lower_limit) | (ks_df.backers > upper_limit)]\\n\\n# dataframe w/o outliers\\ndf_no_outlier = ks_df[(ks_df.backers > lower_limit) & (ks_df.backers < upper_limit)]\\ndf_no_outlier.head(2)\";\n",
       "                var nbb_cells = Jupyter.notebook.get_cells();\n",
       "                for (var i = 0; i < nbb_cells.length; ++i) {\n",
       "                    if (nbb_cells[i].input_prompt_number == nbb_cell_id) {\n",
       "                        if (nbb_cells[i].get_text() == nbb_unformatted_code) {\n",
       "                             nbb_cells[i].set_text(nbb_formatted_code);\n",
       "                        }\n",
       "                        break;\n",
       "                    }\n",
       "                }\n",
       "            }, 500);\n",
       "            "
      ],
      "text/plain": [
       "<IPython.core.display.Javascript object>"
      ]
     },
     "metadata": {},
     "output_type": "display_data"
    }
   ],
   "source": [
    "# outliers\n",
    "# ks_df[(ks_df.backers < lower_limit) | (ks_df.backers > upper_limit)]\n",
    "\n",
    "# dataframe w/o outliers\n",
    "df_no_outlier = ks_df[(ks_df.backers > lower_limit) & (ks_df.backers < upper_limit)]\n",
    "df_no_outlier.head(2)"
   ]
  },
  {
   "cell_type": "code",
   "execution_count": 17,
   "metadata": {},
   "outputs": [
    {
     "data": {
      "text/html": [
       "<div>\n",
       "<style scoped>\n",
       "    .dataframe tbody tr th:only-of-type {\n",
       "        vertical-align: middle;\n",
       "    }\n",
       "\n",
       "    .dataframe tbody tr th {\n",
       "        vertical-align: top;\n",
       "    }\n",
       "\n",
       "    .dataframe thead th {\n",
       "        text-align: right;\n",
       "    }\n",
       "</style>\n",
       "<table border=\"1\" class=\"dataframe\">\n",
       "  <thead>\n",
       "    <tr style=\"text-align: right;\">\n",
       "      <th></th>\n",
       "      <th>project id</th>\n",
       "      <th>goal</th>\n",
       "      <th>pledged</th>\n",
       "      <th>funded percentage</th>\n",
       "      <th>backers</th>\n",
       "      <th>levels</th>\n",
       "      <th>updates</th>\n",
       "      <th>comments</th>\n",
       "      <th>duration</th>\n",
       "    </tr>\n",
       "  </thead>\n",
       "  <tbody>\n",
       "    <tr>\n",
       "      <th>count</th>\n",
       "      <td>4.219800e+04</td>\n",
       "      <td>4.219800e+04</td>\n",
       "      <td>42198.000000</td>\n",
       "      <td>42198.000000</td>\n",
       "      <td>42198.000000</td>\n",
       "      <td>42198.000000</td>\n",
       "      <td>42198.000000</td>\n",
       "      <td>42198.000000</td>\n",
       "      <td>42198.000000</td>\n",
       "    </tr>\n",
       "    <tr>\n",
       "      <th>mean</th>\n",
       "      <td>1.080646e+09</td>\n",
       "      <td>1.108036e+04</td>\n",
       "      <td>2345.210792</td>\n",
       "      <td>1.751996</td>\n",
       "      <td>30.569695</td>\n",
       "      <td>7.684440</td>\n",
       "      <td>3.376345</td>\n",
       "      <td>2.022774</td>\n",
       "      <td>39.962226</td>\n",
       "    </tr>\n",
       "    <tr>\n",
       "      <th>std</th>\n",
       "      <td>6.215546e+08</td>\n",
       "      <td>1.958820e+05</td>\n",
       "      <td>3493.940674</td>\n",
       "      <td>91.953959</td>\n",
       "      <td>32.706435</td>\n",
       "      <td>3.856872</td>\n",
       "      <td>5.411507</td>\n",
       "      <td>4.548671</td>\n",
       "      <td>17.604337</td>\n",
       "    </tr>\n",
       "    <tr>\n",
       "      <th>min</th>\n",
       "      <td>3.940900e+04</td>\n",
       "      <td>1.000000e-02</td>\n",
       "      <td>0.000000</td>\n",
       "      <td>0.000000</td>\n",
       "      <td>0.000000</td>\n",
       "      <td>0.000000</td>\n",
       "      <td>0.000000</td>\n",
       "      <td>0.000000</td>\n",
       "      <td>1.000000</td>\n",
       "    </tr>\n",
       "    <tr>\n",
       "      <th>25%</th>\n",
       "      <td>5.435792e+08</td>\n",
       "      <td>1.500000e+03</td>\n",
       "      <td>150.000000</td>\n",
       "      <td>0.033254</td>\n",
       "      <td>4.000000</td>\n",
       "      <td>5.000000</td>\n",
       "      <td>0.000000</td>\n",
       "      <td>0.000000</td>\n",
       "      <td>30.000000</td>\n",
       "    </tr>\n",
       "    <tr>\n",
       "      <th>50%</th>\n",
       "      <td>1.077083e+09</td>\n",
       "      <td>3.500000e+03</td>\n",
       "      <td>1056.000000</td>\n",
       "      <td>0.465000</td>\n",
       "      <td>19.000000</td>\n",
       "      <td>7.000000</td>\n",
       "      <td>1.000000</td>\n",
       "      <td>0.000000</td>\n",
       "      <td>31.860000</td>\n",
       "    </tr>\n",
       "    <tr>\n",
       "      <th>75%</th>\n",
       "      <td>1.621537e+09</td>\n",
       "      <td>7.999750e+03</td>\n",
       "      <td>3160.000000</td>\n",
       "      <td>1.088000</td>\n",
       "      <td>47.000000</td>\n",
       "      <td>9.000000</td>\n",
       "      <td>5.000000</td>\n",
       "      <td>2.000000</td>\n",
       "      <td>48.890000</td>\n",
       "    </tr>\n",
       "    <tr>\n",
       "      <th>max</th>\n",
       "      <td>2.147460e+09</td>\n",
       "      <td>2.147484e+07</td>\n",
       "      <td>102801.000000</td>\n",
       "      <td>15066.000000</td>\n",
       "      <td>139.000000</td>\n",
       "      <td>76.000000</td>\n",
       "      <td>112.000000</td>\n",
       "      <td>139.000000</td>\n",
       "      <td>91.960000</td>\n",
       "    </tr>\n",
       "  </tbody>\n",
       "</table>\n",
       "</div>"
      ],
      "text/plain": [
       "         project id          goal        pledged  funded percentage  \\\n",
       "count  4.219800e+04  4.219800e+04   42198.000000       42198.000000   \n",
       "mean   1.080646e+09  1.108036e+04    2345.210792           1.751996   \n",
       "std    6.215546e+08  1.958820e+05    3493.940674          91.953959   \n",
       "min    3.940900e+04  1.000000e-02       0.000000           0.000000   \n",
       "25%    5.435792e+08  1.500000e+03     150.000000           0.033254   \n",
       "50%    1.077083e+09  3.500000e+03    1056.000000           0.465000   \n",
       "75%    1.621537e+09  7.999750e+03    3160.000000           1.088000   \n",
       "max    2.147460e+09  2.147484e+07  102801.000000       15066.000000   \n",
       "\n",
       "            backers        levels       updates      comments      duration  \n",
       "count  42198.000000  42198.000000  42198.000000  42198.000000  42198.000000  \n",
       "mean      30.569695      7.684440      3.376345      2.022774     39.962226  \n",
       "std       32.706435      3.856872      5.411507      4.548671     17.604337  \n",
       "min        0.000000      0.000000      0.000000      0.000000      1.000000  \n",
       "25%        4.000000      5.000000      0.000000      0.000000     30.000000  \n",
       "50%       19.000000      7.000000      1.000000      0.000000     31.860000  \n",
       "75%       47.000000      9.000000      5.000000      2.000000     48.890000  \n",
       "max      139.000000     76.000000    112.000000    139.000000     91.960000  "
      ]
     },
     "execution_count": 17,
     "metadata": {},
     "output_type": "execute_result"
    },
    {
     "data": {
      "application/javascript": [
       "\n",
       "            setTimeout(function() {\n",
       "                var nbb_cell_id = 17;\n",
       "                var nbb_unformatted_code = \"df_no_outlier.describe()\";\n",
       "                var nbb_formatted_code = \"df_no_outlier.describe()\";\n",
       "                var nbb_cells = Jupyter.notebook.get_cells();\n",
       "                for (var i = 0; i < nbb_cells.length; ++i) {\n",
       "                    if (nbb_cells[i].input_prompt_number == nbb_cell_id) {\n",
       "                        if (nbb_cells[i].get_text() == nbb_unformatted_code) {\n",
       "                             nbb_cells[i].set_text(nbb_formatted_code);\n",
       "                        }\n",
       "                        break;\n",
       "                    }\n",
       "                }\n",
       "            }, 500);\n",
       "            "
      ],
      "text/plain": [
       "<IPython.core.display.Javascript object>"
      ]
     },
     "metadata": {},
     "output_type": "display_data"
    }
   ],
   "source": [
    "df_no_outlier.describe()"
   ]
  },
  {
   "cell_type": "code",
   "execution_count": 18,
   "metadata": {},
   "outputs": [
    {
     "data": {
      "image/png": "[encoded data removed]",
      "text/plain": [
       "<Figure size 432x288 with 1 Axes>"
      ]
     },
     "metadata": {
      "needs_background": "light"
     },
     "output_type": "display_data"
    },
    {
     "data": {
      "application/javascript": [
       "\n",
       "            setTimeout(function() {\n",
       "                var nbb_cell_id = 18;\n",
       "                var nbb_unformatted_code = \"sns.boxplot(x=df_no_outlier[\\\"backers\\\"])\\nplt.xlabel(\\\"Backers\\\")\\nplt.title(\\\"Boxplot of Project Backers (outliers excluded)\\\")\\nplt.show()\";\n",
       "                var nbb_formatted_code = \"sns.boxplot(x=df_no_outlier[\\\"backers\\\"])\\nplt.xlabel(\\\"Backers\\\")\\nplt.title(\\\"Boxplot of Project Backers (outliers excluded)\\\")\\nplt.show()\";\n",
       "                var nbb_cells = Jupyter.notebook.get_cells();\n",
       "                for (var i = 0; i < nbb_cells.length; ++i) {\n",
       "                    if (nbb_cells[i].input_prompt_number == nbb_cell_id) {\n",
       "                        if (nbb_cells[i].get_text() == nbb_unformatted_code) {\n",
       "                             nbb_cells[i].set_text(nbb_formatted_code);\n",
       "                        }\n",
       "                        break;\n",
       "                    }\n",
       "                }\n",
       "            }, 500);\n",
       "            "
      ],
      "text/plain": [
       "<IPython.core.display.Javascript object>"
      ]
     },
     "metadata": {},
     "output_type": "display_data"
    }
   ],
   "source": [
    "sns.boxplot(x=df_no_outlier[\"backers\"])\n",
    "plt.xlabel(\"Backers\")\n",
    "plt.title(\"Boxplot of Project Backers (outliers excluded)\")\n",
    "plt.show()"
   ]
  },
  {
   "cell_type": "code",
   "execution_count": 19,
   "metadata": {},
   "outputs": [
    {
     "data": {
      "image/png": "[encoded data removed]",
      "text/plain": [
       "<Figure size 864x360 with 1 Axes>"
      ]
     },
     "metadata": {
      "needs_background": "light"
     },
     "output_type": "display_data"
    },
    {
     "data": {
      "application/javascript": [
       "\n",
       "            setTimeout(function() {\n",
       "                var nbb_cell_id = 19;\n",
       "                var nbb_unformatted_code = \"plt.figure(figsize=(12, 5))\\nsns.histplot(df_no_outlier[\\\"backers\\\"], kde=True, bins=50, color=\\\"orange\\\")\\nplt.xlabel(\\\"Backers\\\")\\nplt.ylabel(\\\"Frequency\\\")\\nplt.title(\\\"Distribution of Project Backers (outliers removed)\\\")\\nplt.show()\";\n",
       "                var nbb_formatted_code = \"plt.figure(figsize=(12, 5))\\nsns.histplot(df_no_outlier[\\\"backers\\\"], kde=True, bins=50, color=\\\"orange\\\")\\nplt.xlabel(\\\"Backers\\\")\\nplt.ylabel(\\\"Frequency\\\")\\nplt.title(\\\"Distribution of Project Backers (outliers removed)\\\")\\nplt.show()\";\n",
       "                var nbb_cells = Jupyter.notebook.get_cells();\n",
       "                for (var i = 0; i < nbb_cells.length; ++i) {\n",
       "                    if (nbb_cells[i].input_prompt_number == nbb_cell_id) {\n",
       "                        if (nbb_cells[i].get_text() == nbb_unformatted_code) {\n",
       "                             nbb_cells[i].set_text(nbb_formatted_code);\n",
       "                        }\n",
       "                        break;\n",
       "                    }\n",
       "                }\n",
       "            }, 500);\n",
       "            "
      ],
      "text/plain": [
       "<IPython.core.display.Javascript object>"
      ]
     },
     "metadata": {},
     "output_type": "display_data"
    }
   ],
   "source": [
    "plt.figure(figsize=(12, 5))\n",
    "sns.histplot(df_no_outlier[\"backers\"], kde=True, bins=50, color=\"orange\")\n",
    "plt.xlabel(\"Backers\")\n",
    "plt.ylabel(\"Frequency\")\n",
    "plt.title(\"Distribution of Project Backers (outliers removed)\")\n",
    "plt.show()"
   ]
  },
  {
   "cell_type": "code",
   "execution_count": 20,
   "metadata": {},
   "outputs": [
    {
     "name": "stdout",
     "output_type": "stream",
     "text": [
      "Skewness_wo_outliers:\n",
      "1.26\n"
     ]
    },
    {
     "data": {
      "application/javascript": [
       "\n",
       "            setTimeout(function() {\n",
       "                var nbb_cell_id = 20;\n",
       "                var nbb_unformatted_code = \"backers_skewness_n = df_no_outlier[\\\"backers\\\"].skew()\\n\\nprint(\\\"Skewness_wo_outliers:\\\")\\nprint(round(backers_skewness_n, 2))\";\n",
       "                var nbb_formatted_code = \"backers_skewness_n = df_no_outlier[\\\"backers\\\"].skew()\\n\\nprint(\\\"Skewness_wo_outliers:\\\")\\nprint(round(backers_skewness_n, 2))\";\n",
       "                var nbb_cells = Jupyter.notebook.get_cells();\n",
       "                for (var i = 0; i < nbb_cells.length; ++i) {\n",
       "                    if (nbb_cells[i].input_prompt_number == nbb_cell_id) {\n",
       "                        if (nbb_cells[i].get_text() == nbb_unformatted_code) {\n",
       "                             nbb_cells[i].set_text(nbb_formatted_code);\n",
       "                        }\n",
       "                        break;\n",
       "                    }\n",
       "                }\n",
       "            }, 500);\n",
       "            "
      ],
      "text/plain": [
       "<IPython.core.display.Javascript object>"
      ]
     },
     "metadata": {},
     "output_type": "display_data"
    }
   ],
   "source": [
    "backers_skewness_n = df_no_outlier[\"backers\"].skew()\n",
    "\n",
    "print(\"Skewness_wo_outliers:\")\n",
    "print(round(backers_skewness_n, 2))"
   ]
  },
  {
   "cell_type": "markdown",
   "metadata": {},
   "source": [
    "#### 3. Is the 'duration' variable normally distributed?"
   ]
  },
  {
   "cell_type": "code",
   "execution_count": 21,
   "metadata": {},
   "outputs": [
    {
     "data": {
      "image/png": "[encoded data removed]",
      "text/plain": [
       "<Figure size 720x360 with 1 Axes>"
      ]
     },
     "metadata": {
      "needs_background": "light"
     },
     "output_type": "display_data"
    },
    {
     "data": {
      "application/javascript": [
       "\n",
       "            setTimeout(function() {\n",
       "                var nbb_cell_id = 21;\n",
       "                var nbb_unformatted_code = \"plt.figure(figsize=(10, 5))\\nsns.histplot(ks_df[\\\"duration\\\"], kde=True, bins=30)\\nplt.xlabel(\\\"Duration\\\")\\nplt.ylabel(\\\"Frequecny\\\")\\nplt.title(\\\"Distribution of Project Duration\\\")\\nplt.show()\";\n",
       "                var nbb_formatted_code = \"plt.figure(figsize=(10, 5))\\nsns.histplot(ks_df[\\\"duration\\\"], kde=True, bins=30)\\nplt.xlabel(\\\"Duration\\\")\\nplt.ylabel(\\\"Frequecny\\\")\\nplt.title(\\\"Distribution of Project Duration\\\")\\nplt.show()\";\n",
       "                var nbb_cells = Jupyter.notebook.get_cells();\n",
       "                for (var i = 0; i < nbb_cells.length; ++i) {\n",
       "                    if (nbb_cells[i].input_prompt_number == nbb_cell_id) {\n",
       "                        if (nbb_cells[i].get_text() == nbb_unformatted_code) {\n",
       "                             nbb_cells[i].set_text(nbb_formatted_code);\n",
       "                        }\n",
       "                        break;\n",
       "                    }\n",
       "                }\n",
       "            }, 500);\n",
       "            "
      ],
      "text/plain": [
       "<IPython.core.display.Javascript object>"
      ]
     },
     "metadata": {},
     "output_type": "display_data"
    }
   ],
   "source": [
    "plt.figure(figsize=(10, 5))\n",
    "sns.histplot(ks_df[\"duration\"], kde=True, bins=30)\n",
    "plt.xlabel(\"Duration\")\n",
    "plt.ylabel(\"Frequecny\")\n",
    "plt.title(\"Distribution of Project Duration\")\n",
    "plt.show()"
   ]
  },
  {
   "cell_type": "markdown",
   "metadata": {},
   "source": [
    "Duration variable is not normal distributed."
   ]
  },
  {
   "cell_type": "markdown",
   "metadata": {},
   "source": [
    "#### 4. If you could collect data on another attribute of these projects, what would it be and why?\n"
   ]
  },
  {
   "cell_type": "markdown",
   "metadata": {},
   "source": [
    "There is nothing about marketing presence so a possible new variable can be if there is a FB or Twitter account which can contribute to the marketing campaign. Also of interest might be knowing the targeted audience or even the expected number of customers."
   ]
  },
  {
   "cell_type": "markdown",
   "metadata": {},
   "source": [
    "## Qualitative Analysis"
   ]
  },
  {
   "cell_type": "code",
   "execution_count": 22,
   "metadata": {},
   "outputs": [
    {
     "data": {
      "text/plain": [
       "<AxesSubplot:ylabel='status'>"
      ]
     },
     "execution_count": 22,
     "metadata": {},
     "output_type": "execute_result"
    },
    {
     "data": {
      "image/png": "[encoded data removed]",
      "text/plain": [
       "<Figure size 648x432 with 1 Axes>"
      ]
     },
     "metadata": {},
     "output_type": "display_data"
    },
    {
     "data": {
      "application/javascript": [
       "\n",
       "            setTimeout(function() {\n",
       "                var nbb_cell_id = 22;\n",
       "                var nbb_unformatted_code = \"ks_df.status.value_counts(normalize=True).plot(kind=\\\"pie\\\", figsize=(9, 6))\\n# colors = [\\\"orange\\\", \\\"red\\\", \\\"grey\\\", \\\"darkturquoise\\\", \\\"salmon\\\"]\\n# status = round(ks_df[\\\"status\\\"].value_counts() / len(ks_df[\\\"status\\\"]) * 100, 2)\\n\\n# labels = list(status.index)\\n# values = list(status.values)\\n\\n# trace1 = go.Pie(\\n#     labels=labels,\\n#     values=values,\\n#     marker=dict(colors=colors),\\n#     #    line=dict(color=\\\"rgb(100,100,100)\\\", width=1),\\n# )\\n\\n# layout = go.Layout(title=\\\"Distribuition of Status\\\", legend=dict(orientation=\\\"h\\\"))\\n\\n# fig = go.Figure(data=[trace1], layout=layout)\\n# iplot(fig)\";\n",
       "                var nbb_formatted_code = \"ks_df.status.value_counts(normalize=True).plot(kind=\\\"pie\\\", figsize=(9, 6))\\n# colors = [\\\"orange\\\", \\\"red\\\", \\\"grey\\\", \\\"darkturquoise\\\", \\\"salmon\\\"]\\n# status = round(ks_df[\\\"status\\\"].value_counts() / len(ks_df[\\\"status\\\"]) * 100, 2)\\n\\n# labels = list(status.index)\\n# values = list(status.values)\\n\\n# trace1 = go.Pie(\\n#     labels=labels,\\n#     values=values,\\n#     marker=dict(colors=colors),\\n#     #    line=dict(color=\\\"rgb(100,100,100)\\\", width=1),\\n# )\\n\\n# layout = go.Layout(title=\\\"Distribuition of Status\\\", legend=dict(orientation=\\\"h\\\"))\\n\\n# fig = go.Figure(data=[trace1], layout=layout)\\n# iplot(fig)\";\n",
       "                var nbb_cells = Jupyter.notebook.get_cells();\n",
       "                for (var i = 0; i < nbb_cells.length; ++i) {\n",
       "                    if (nbb_cells[i].input_prompt_number == nbb_cell_id) {\n",
       "                        if (nbb_cells[i].get_text() == nbb_unformatted_code) {\n",
       "                             nbb_cells[i].set_text(nbb_formatted_code);\n",
       "                        }\n",
       "                        break;\n",
       "                    }\n",
       "                }\n",
       "            }, 500);\n",
       "            "
      ],
      "text/plain": [
       "<IPython.core.display.Javascript object>"
      ]
     },
     "metadata": {},
     "output_type": "display_data"
    }
   ],
   "source": [
    "ks_df.status.value_counts(normalize=True).plot(kind=\"pie\", figsize=(9, 6))\n",
    "# colors = [\"orange\", \"red\", \"grey\", \"darkturquoise\", \"salmon\"]\n",
    "# status = round(ks_df[\"status\"].value_counts() / len(ks_df[\"status\"]) * 100, 2)\n",
    "\n",
    "# labels = list(status.index)\n",
    "# values = list(status.values)\n",
    "\n",
    "# trace1 = go.Pie(\n",
    "#     labels=labels,\n",
    "#     values=values,\n",
    "#     marker=dict(colors=colors),\n",
    "#     #    line=dict(color=\"rgb(100,100,100)\", width=1),\n",
    "# )\n",
    "\n",
    "# layout = go.Layout(title=\"Distribuition of Status\", legend=dict(orientation=\"h\"))\n",
    "\n",
    "# fig = go.Figure(data=[trace1], layout=layout)\n",
    "# iplot(fig)"
   ]
  },
  {
   "cell_type": "markdown",
   "metadata": {},
   "source": [
    "### What's the best length of time to run a campaign?"
   ]
  },
  {
   "cell_type": "code",
   "execution_count": 23,
   "metadata": {},
   "outputs": [
    {
     "name": "stdout",
     "output_type": "stream",
     "text": [
      "Successful campaign average duration:\n",
      "38.0\n"
     ]
    },
    {
     "data": {
      "application/javascript": [
       "\n",
       "            setTimeout(function() {\n",
       "                var nbb_cell_id = 23;\n",
       "                var nbb_unformatted_code = \"# average succsessful project duration\\nsuccess_duration_avg = ks_df[ks_df[\\\"status\\\"] == \\\"successful\\\"].duration.mean()\\n\\nprint(\\\"Successful campaign average duration:\\\")\\nprint(round(success_duration_avg, 1))\";\n",
       "                var nbb_formatted_code = \"# average succsessful project duration\\nsuccess_duration_avg = ks_df[ks_df[\\\"status\\\"] == \\\"successful\\\"].duration.mean()\\n\\nprint(\\\"Successful campaign average duration:\\\")\\nprint(round(success_duration_avg, 1))\";\n",
       "                var nbb_cells = Jupyter.notebook.get_cells();\n",
       "                for (var i = 0; i < nbb_cells.length; ++i) {\n",
       "                    if (nbb_cells[i].input_prompt_number == nbb_cell_id) {\n",
       "                        if (nbb_cells[i].get_text() == nbb_unformatted_code) {\n",
       "                             nbb_cells[i].set_text(nbb_formatted_code);\n",
       "                        }\n",
       "                        break;\n",
       "                    }\n",
       "                }\n",
       "            }, 500);\n",
       "            "
      ],
      "text/plain": [
       "<IPython.core.display.Javascript object>"
      ]
     },
     "metadata": {},
     "output_type": "display_data"
    }
   ],
   "source": [
    "# average succsessful project duration\n",
    "success_duration_avg = ks_df[ks_df[\"status\"] == \"successful\"].duration.mean()\n",
    "\n",
    "print(\"Successful campaign average duration:\")\n",
    "print(round(success_duration_avg, 1))"
   ]
  },
  {
   "cell_type": "code",
   "execution_count": 24,
   "metadata": {},
   "outputs": [
    {
     "data": {
      "text/plain": [
       "<AxesSubplot:xlabel='duration', ylabel='Count'>"
      ]
     },
     "execution_count": 24,
     "metadata": {},
     "output_type": "execute_result"
    },
    {
     "data": {
      "image/png": "[encoded data removed]",
      "text/plain": [
       "<Figure size 864x360 with 1 Axes>"
      ]
     },
     "metadata": {
      "needs_background": "light"
     },
     "output_type": "display_data"
    },
    {
     "data": {
      "application/javascript": [
       "\n",
       "            setTimeout(function() {\n",
       "                var nbb_cell_id = 24;\n",
       "                var nbb_unformatted_code = \"plt.figure(figsize=(12, 5))\\nsns.histplot(\\n    data=ks_df[ks_df[\\\"status\\\"] == \\\"successful\\\"],\\n    x=\\\"duration\\\",\\n    bins=20,\\n    color=\\\"orange\\\",\\n    kde=True,\\n)\";\n",
       "                var nbb_formatted_code = \"plt.figure(figsize=(12, 5))\\nsns.histplot(\\n    data=ks_df[ks_df[\\\"status\\\"] == \\\"successful\\\"],\\n    x=\\\"duration\\\",\\n    bins=20,\\n    color=\\\"orange\\\",\\n    kde=True,\\n)\";\n",
       "                var nbb_cells = Jupyter.notebook.get_cells();\n",
       "                for (var i = 0; i < nbb_cells.length; ++i) {\n",
       "                    if (nbb_cells[i].input_prompt_number == nbb_cell_id) {\n",
       "                        if (nbb_cells[i].get_text() == nbb_unformatted_code) {\n",
       "                             nbb_cells[i].set_text(nbb_formatted_code);\n",
       "                        }\n",
       "                        break;\n",
       "                    }\n",
       "                }\n",
       "            }, 500);\n",
       "            "
      ],
      "text/plain": [
       "<IPython.core.display.Javascript object>"
      ]
     },
     "metadata": {},
     "output_type": "display_data"
    }
   ],
   "source": [
    "plt.figure(figsize=(12, 5))\n",
    "sns.histplot(\n",
    "    data=ks_df[ks_df[\"status\"] == \"successful\"],\n",
    "    x=\"duration\",\n",
    "    bins=20,\n",
    "    color=\"orange\",\n",
    "    kde=True,\n",
    ")"
   ]
  },
  {
   "cell_type": "markdown",
   "metadata": {},
   "source": [
    "### What's the ideal pledge goal?"
   ]
  },
  {
   "cell_type": "code",
   "execution_count": 25,
   "metadata": {},
   "outputs": [
    {
     "name": "stdout",
     "output_type": "stream",
     "text": [
      "Successful campaign average goal: \n",
      "5483.8\n"
     ]
    },
    {
     "data": {
      "application/javascript": [
       "\n",
       "            setTimeout(function() {\n",
       "                var nbb_cell_id = 25;\n",
       "                var nbb_unformatted_code = \"# average successful project pledge\\nsuccess_pledge_goal_avg = ks_df[ks_df[\\\"status\\\"] == \\\"successful\\\"].goal.mean()\\n\\nprint(\\\"Successful campaign average goal: \\\")\\nprint(round(success_pledge_goal_avg, 1))\";\n",
       "                var nbb_formatted_code = \"# average successful project pledge\\nsuccess_pledge_goal_avg = ks_df[ks_df[\\\"status\\\"] == \\\"successful\\\"].goal.mean()\\n\\nprint(\\\"Successful campaign average goal: \\\")\\nprint(round(success_pledge_goal_avg, 1))\";\n",
       "                var nbb_cells = Jupyter.notebook.get_cells();\n",
       "                for (var i = 0; i < nbb_cells.length; ++i) {\n",
       "                    if (nbb_cells[i].input_prompt_number == nbb_cell_id) {\n",
       "                        if (nbb_cells[i].get_text() == nbb_unformatted_code) {\n",
       "                             nbb_cells[i].set_text(nbb_formatted_code);\n",
       "                        }\n",
       "                        break;\n",
       "                    }\n",
       "                }\n",
       "            }, 500);\n",
       "            "
      ],
      "text/plain": [
       "<IPython.core.display.Javascript object>"
      ]
     },
     "metadata": {},
     "output_type": "display_data"
    }
   ],
   "source": [
    "# average successful project pledge\n",
    "success_pledge_goal_avg = ks_df[ks_df[\"status\"] == \"successful\"].goal.mean()\n",
    "\n",
    "print(\"Successful campaign average goal: \")\n",
    "print(round(success_pledge_goal_avg, 1))"
   ]
  },
  {
   "cell_type": "code",
   "execution_count": 26,
   "metadata": {},
   "outputs": [
    {
     "data": {
      "text/plain": [
       "<Figure size 864x432 with 0 Axes>"
      ]
     },
     "metadata": {},
     "output_type": "display_data"
    },
    {
     "data": {
      "image/png": "[encoded data removed]",
      "text/plain": [
       "<Figure size 360x360 with 1 Axes>"
      ]
     },
     "metadata": {
      "needs_background": "light"
     },
     "output_type": "display_data"
    },
    {
     "data": {
      "application/javascript": [
       "\n",
       "            setTimeout(function() {\n",
       "                var nbb_cell_id = 26;\n",
       "                var nbb_unformatted_code = \"# Plot showing rates of success by duration\\n\\nplt.figure(figsize=(12, 6))\\n\\nsns.catplot(x=\\\"status\\\", y=\\\"goal\\\", data=ks_df, kind=\\\"bar\\\", ci=None)\\nplt.xlabel(\\\"Status\\\")\\nplt.ylabel(\\\"Pledge Goal\\\")\\nplt.title(\\\"Pledge Goals by Status\\\")\\nplt.show()\";\n",
       "                var nbb_formatted_code = \"# Plot showing rates of success by duration\\n\\nplt.figure(figsize=(12, 6))\\n\\nsns.catplot(x=\\\"status\\\", y=\\\"goal\\\", data=ks_df, kind=\\\"bar\\\", ci=None)\\nplt.xlabel(\\\"Status\\\")\\nplt.ylabel(\\\"Pledge Goal\\\")\\nplt.title(\\\"Pledge Goals by Status\\\")\\nplt.show()\";\n",
       "                var nbb_cells = Jupyter.notebook.get_cells();\n",
       "                for (var i = 0; i < nbb_cells.length; ++i) {\n",
       "                    if (nbb_cells[i].input_prompt_number == nbb_cell_id) {\n",
       "                        if (nbb_cells[i].get_text() == nbb_unformatted_code) {\n",
       "                             nbb_cells[i].set_text(nbb_formatted_code);\n",
       "                        }\n",
       "                        break;\n",
       "                    }\n",
       "                }\n",
       "            }, 500);\n",
       "            "
      ],
      "text/plain": [
       "<IPython.core.display.Javascript object>"
      ]
     },
     "metadata": {},
     "output_type": "display_data"
    }
   ],
   "source": [
    "# Plot showing rates of success by duration\n",
    "\n",
    "plt.figure(figsize=(12, 6))\n",
    "\n",
    "sns.catplot(x=\"status\", y=\"goal\", data=ks_df, kind=\"bar\", ci=None)\n",
    "plt.xlabel(\"Status\")\n",
    "plt.ylabel(\"Pledge Goal\")\n",
    "plt.title(\"Pledge Goals by Status\")\n",
    "plt.show()"
   ]
  },
  {
   "cell_type": "markdown",
   "metadata": {},
   "source": [
    "### What type of projects would be most successful at getting funded?"
   ]
  },
  {
   "cell_type": "code",
   "execution_count": 27,
   "metadata": {},
   "outputs": [
    {
     "data": {
      "text/plain": [
       "Film &amp; Video    13053\n",
       "Music               10913\n",
       "Publishing           4770\n",
       "Art                  3992\n",
       "Theater              2492\n",
       "Design               1768\n",
       "Games                1738\n",
       "Photography          1514\n",
       "Food                 1439\n",
       "Fashion              1136\n",
       "Comics               1072\n",
       "Technology            811\n",
       "Dance                 761\n",
       "Film & Video          498\n",
       "Name: category, dtype: int64"
      ]
     },
     "execution_count": 27,
     "metadata": {},
     "output_type": "execute_result"
    },
    {
     "data": {
      "application/javascript": [
       "\n",
       "            setTimeout(function() {\n",
       "                var nbb_cell_id = 27;\n",
       "                var nbb_unformatted_code = \"# Print categories\\nks_df[\\\"category\\\"].value_counts()\";\n",
       "                var nbb_formatted_code = \"# Print categories\\nks_df[\\\"category\\\"].value_counts()\";\n",
       "                var nbb_cells = Jupyter.notebook.get_cells();\n",
       "                for (var i = 0; i < nbb_cells.length; ++i) {\n",
       "                    if (nbb_cells[i].input_prompt_number == nbb_cell_id) {\n",
       "                        if (nbb_cells[i].get_text() == nbb_unformatted_code) {\n",
       "                             nbb_cells[i].set_text(nbb_formatted_code);\n",
       "                        }\n",
       "                        break;\n",
       "                    }\n",
       "                }\n",
       "            }, 500);\n",
       "            "
      ],
      "text/plain": [
       "<IPython.core.display.Javascript object>"
      ]
     },
     "metadata": {},
     "output_type": "display_data"
    }
   ],
   "source": [
    "# Print categories\n",
    "ks_df[\"category\"].value_counts()"
   ]
  },
  {
   "cell_type": "markdown",
   "metadata": {},
   "source": [
    "Film & video apperas 2 times, one of them is misspelled, needs to be fixed"
   ]
  },
  {
   "cell_type": "code",
   "execution_count": 28,
   "metadata": {},
   "outputs": [
    {
     "data": {
      "text/plain": [
       "Film & Video    13551\n",
       "Music           10913\n",
       "Publishing       4770\n",
       "Art              3992\n",
       "Theater          2492\n",
       "Design           1768\n",
       "Games            1738\n",
       "Photography      1514\n",
       "Food             1439\n",
       "Fashion          1136\n",
       "Comics           1072\n",
       "Technology        811\n",
       "Dance             761\n",
       "Name: category, dtype: int64"
      ]
     },
     "execution_count": 28,
     "metadata": {},
     "output_type": "execute_result"
    },
    {
     "data": {
      "application/javascript": [
       "\n",
       "            setTimeout(function() {\n",
       "                var nbb_cell_id = 28;\n",
       "                var nbb_unformatted_code = \"ks_df[\\\"category\\\"] = ks_df[\\\"category\\\"].replace([\\\"Film &amp; Video\\\"], \\\"Film & Video\\\")\\nks_df[\\\"category\\\"].value_counts()\";\n",
       "                var nbb_formatted_code = \"ks_df[\\\"category\\\"] = ks_df[\\\"category\\\"].replace([\\\"Film &amp; Video\\\"], \\\"Film & Video\\\")\\nks_df[\\\"category\\\"].value_counts()\";\n",
       "                var nbb_cells = Jupyter.notebook.get_cells();\n",
       "                for (var i = 0; i < nbb_cells.length; ++i) {\n",
       "                    if (nbb_cells[i].input_prompt_number == nbb_cell_id) {\n",
       "                        if (nbb_cells[i].get_text() == nbb_unformatted_code) {\n",
       "                             nbb_cells[i].set_text(nbb_formatted_code);\n",
       "                        }\n",
       "                        break;\n",
       "                    }\n",
       "                }\n",
       "            }, 500);\n",
       "            "
      ],
      "text/plain": [
       "<IPython.core.display.Javascript object>"
      ]
     },
     "metadata": {},
     "output_type": "display_data"
    }
   ],
   "source": [
    "ks_df[\"category\"] = ks_df[\"category\"].replace([\"Film &amp; Video\"], \"Film & Video\")\n",
    "ks_df[\"category\"].value_counts()"
   ]
  },
  {
   "cell_type": "markdown",
   "metadata": {},
   "source": [
    "There are 14 categories"
   ]
  },
  {
   "cell_type": "code",
   "execution_count": 29,
   "metadata": {},
   "outputs": [
    {
     "data": {
      "text/plain": [
       "<AxesSubplot:ylabel='category'>"
      ]
     },
     "execution_count": 29,
     "metadata": {},
     "output_type": "execute_result"
    },
    {
     "data": {
      "image/png": "[encoded data removed]",
      "text/plain": [
       "<Figure size 648x432 with 1 Axes>"
      ]
     },
     "metadata": {},
     "output_type": "display_data"
    },
    {
     "data": {
      "application/javascript": [
       "\n",
       "            setTimeout(function() {\n",
       "                var nbb_cell_id = 29;\n",
       "                var nbb_unformatted_code = \"ks_df.category.value_counts(normalize=True).plot(kind=\\\"pie\\\", figsize=(9, 6))\\n# colors = [\\\"orange\\\", \\\"red\\\", \\\"grey\\\", \\\"darkturquoise\\\", \\\"salmon\\\"]\\n# category = round(ks_df[\\\"category\\\"].value_counts() / len(ks_df[\\\"category\\\"]) * 100, 2)\\n\\n# labels = list(category.index)\\n# values = list(category.values)\\n\\n# trace1 = go.Pie(\\n#     labels=labels,\\n#     values=values,\\n#     marker=dict(colors=colors),\\n#     #    line=dict(color=\\\"rgb(100,100,100)\\\", width=1),\\n# )\\n\\n# layout = go.Layout(title=\\\"Distribuition of Category\\\", legend=dict(orientation=\\\"h\\\"))\\n\\n# fig = go.Figure(data=[trace1], layout=layout)\\n# iplot(fig)\";\n",
       "                var nbb_formatted_code = \"ks_df.category.value_counts(normalize=True).plot(kind=\\\"pie\\\", figsize=(9, 6))\\n# colors = [\\\"orange\\\", \\\"red\\\", \\\"grey\\\", \\\"darkturquoise\\\", \\\"salmon\\\"]\\n# category = round(ks_df[\\\"category\\\"].value_counts() / len(ks_df[\\\"category\\\"]) * 100, 2)\\n\\n# labels = list(category.index)\\n# values = list(category.values)\\n\\n# trace1 = go.Pie(\\n#     labels=labels,\\n#     values=values,\\n#     marker=dict(colors=colors),\\n#     #    line=dict(color=\\\"rgb(100,100,100)\\\", width=1),\\n# )\\n\\n# layout = go.Layout(title=\\\"Distribuition of Category\\\", legend=dict(orientation=\\\"h\\\"))\\n\\n# fig = go.Figure(data=[trace1], layout=layout)\\n# iplot(fig)\";\n",
       "                var nbb_cells = Jupyter.notebook.get_cells();\n",
       "                for (var i = 0; i < nbb_cells.length; ++i) {\n",
       "                    if (nbb_cells[i].input_prompt_number == nbb_cell_id) {\n",
       "                        if (nbb_cells[i].get_text() == nbb_unformatted_code) {\n",
       "                             nbb_cells[i].set_text(nbb_formatted_code);\n",
       "                        }\n",
       "                        break;\n",
       "                    }\n",
       "                }\n",
       "            }, 500);\n",
       "            "
      ],
      "text/plain": [
       "<IPython.core.display.Javascript object>"
      ]
     },
     "metadata": {},
     "output_type": "display_data"
    }
   ],
   "source": [
    "ks_df.category.value_counts(normalize=True).plot(kind=\"pie\", figsize=(9, 6))\n",
    "# colors = [\"orange\", \"red\", \"grey\", \"darkturquoise\", \"salmon\"]\n",
    "# category = round(ks_df[\"category\"].value_counts() / len(ks_df[\"category\"]) * 100, 2)\n",
    "\n",
    "# labels = list(category.index)\n",
    "# values = list(category.values)\n",
    "\n",
    "# trace1 = go.Pie(\n",
    "#     labels=labels,\n",
    "#     values=values,\n",
    "#     marker=dict(colors=colors),\n",
    "#     #    line=dict(color=\"rgb(100,100,100)\", width=1),\n",
    "# )\n",
    "\n",
    "# layout = go.Layout(title=\"Distribuition of Category\", legend=dict(orientation=\"h\"))\n",
    "\n",
    "# fig = go.Figure(data=[trace1], layout=layout)\n",
    "# iplot(fig)"
   ]
  },
  {
   "cell_type": "code",
   "execution_count": 30,
   "metadata": {},
   "outputs": [
    {
     "data": {
      "text/plain": [
       "<AxesSubplot:ylabel='category'>"
      ]
     },
     "execution_count": 30,
     "metadata": {},
     "output_type": "execute_result"
    },
    {
     "data": {
      "image/png": "[encoded data removed]",
      "text/plain": [
       "<Figure size 648x432 with 1 Axes>"
      ]
     },
     "metadata": {},
     "output_type": "display_data"
    },
    {
     "data": {
      "application/javascript": [
       "\n",
       "            setTimeout(function() {\n",
       "                var nbb_cell_id = 30;\n",
       "                var nbb_unformatted_code = \"ks_df[ks_df[\\\"status\\\"] == \\\"successful\\\"].category.value_counts(normalize=True).plot(kind=\\\"pie\\\", figsize=(9, 6))\\n#df[df[\\\"status\\\"] == \\\"successful\\\"][\\\"category\\\"]\\n\\n# colors = [\\\"orange\\\", \\\"red\\\", \\\"grey\\\", \\\"darkturquoise\\\", \\\"salmon\\\"]\\n# category = round(ks_df[ks_df[\\\"status\\\"] == \\\"successful\\\"][\\\"category\\\"].value_counts() / len(ks_df[ks_df[\\\"status\\\"] == \\\"successful\\\"]) * 100, 2)\\n\\n# labels = list(category.index)\\n# values = list(category.values)\\n\\n# trace1 = go.Pie(\\n#     labels=labels,\\n#     values=values,\\n#     marker=dict(colors=colors),\\n#     #    line=dict(color=\\\"rgb(100,100,100)\\\", width=1),\\n# )\\n\\n# layout = go.Layout(title=\\\"Distribuition of Category\\\", legend=dict(orientation=\\\"h\\\"))\\n\\n# fig = go.Figure(data=[trace1], layout=layout)\\n# iplot(fig)\";\n",
       "                var nbb_formatted_code = \"ks_df[ks_df[\\\"status\\\"] == \\\"successful\\\"].category.value_counts(normalize=True).plot(\\n    kind=\\\"pie\\\", figsize=(9, 6)\\n)\\n# df[df[\\\"status\\\"] == \\\"successful\\\"][\\\"category\\\"]\\n\\n# colors = [\\\"orange\\\", \\\"red\\\", \\\"grey\\\", \\\"darkturquoise\\\", \\\"salmon\\\"]\\n# category = round(ks_df[ks_df[\\\"status\\\"] == \\\"successful\\\"][\\\"category\\\"].value_counts() / len(ks_df[ks_df[\\\"status\\\"] == \\\"successful\\\"]) * 100, 2)\\n\\n# labels = list(category.index)\\n# values = list(category.values)\\n\\n# trace1 = go.Pie(\\n#     labels=labels,\\n#     values=values,\\n#     marker=dict(colors=colors),\\n#     #    line=dict(color=\\\"rgb(100,100,100)\\\", width=1),\\n# )\\n\\n# layout = go.Layout(title=\\\"Distribuition of Category\\\", legend=dict(orientation=\\\"h\\\"))\\n\\n# fig = go.Figure(data=[trace1], layout=layout)\\n# iplot(fig)\";\n",
       "                var nbb_cells = Jupyter.notebook.get_cells();\n",
       "                for (var i = 0; i < nbb_cells.length; ++i) {\n",
       "                    if (nbb_cells[i].input_prompt_number == nbb_cell_id) {\n",
       "                        if (nbb_cells[i].get_text() == nbb_unformatted_code) {\n",
       "                             nbb_cells[i].set_text(nbb_formatted_code);\n",
       "                        }\n",
       "                        break;\n",
       "                    }\n",
       "                }\n",
       "            }, 500);\n",
       "            "
      ],
      "text/plain": [
       "<IPython.core.display.Javascript object>"
      ]
     },
     "metadata": {},
     "output_type": "display_data"
    }
   ],
   "source": [
    "ks_df[ks_df[\"status\"] == \"successful\"].category.value_counts(normalize=True).plot(kind=\"pie\", figsize=(9, 6))\n",
    "#df[df[\"status\"] == \"successful\"][\"category\"]\n",
    "\n",
    "# colors = [\"orange\", \"red\", \"grey\", \"darkturquoise\", \"salmon\"]\n",
    "# category = round(ks_df[ks_df[\"status\"] == \"successful\"][\"category\"].value_counts() / len(ks_df[ks_df[\"status\"] == \"successful\"]) * 100, 2)\n",
    "\n",
    "# labels = list(category.index)\n",
    "# values = list(category.values)\n",
    "\n",
    "# trace1 = go.Pie(\n",
    "#     labels=labels,\n",
    "#     values=values,\n",
    "#     marker=dict(colors=colors),\n",
    "#     #    line=dict(color=\"rgb(100,100,100)\", width=1),\n",
    "# )\n",
    "\n",
    "# layout = go.Layout(title=\"Distribuition of Category\", legend=dict(orientation=\"h\"))\n",
    "\n",
    "# fig = go.Figure(data=[trace1], layout=layout)\n",
    "# iplot(fig)\n"
   ]
  },
  {
   "cell_type": "code",
   "execution_count": 31,
   "metadata": {},
   "outputs": [
    {
     "data": {
      "text/plain": [
       "<Figure size 864x432 with 0 Axes>"
      ]
     },
     "metadata": {},
     "output_type": "display_data"
    },
    {
     "data": {
      "image/png": "[encoded data removed]",
      "text/plain": [
       "<Figure size 1080x432 with 1 Axes>"
      ]
     },
     "metadata": {
      "needs_background": "light"
     },
     "output_type": "display_data"
    },
    {
     "data": {
      "application/javascript": [
       "\n",
       "            setTimeout(function() {\n",
       "                var nbb_cell_id = 31;\n",
       "                var nbb_unformatted_code = \"plt.figure(figsize=(12,6))\\n#sns.countplot(x=\\\"category\\\", data=ks_df_success, palette=\\\"coolwarm\\\")\\n#plt.title(\\\"Count of Successful Campaigns Based on Category\\\")\\n#plt.show()\\n\\nplt.figure(figsize=(15,6))\\nchart=sns.countplot(\\n    x='category',\\n    data=ks_df[ks_df[\\\"status\\\"] == \\\"successful\\\"],\\n    order=ks_df[ks_df[\\\"status\\\"] == \\\"successful\\\"]['category'].value_counts().index[:13]\\n)\\n\\nchart.set_xticklabels(chart.get_xticklabels(),\\n    rotation=30,\\n    horizontalalignment='right',\\n    fontweight='light',\\n    fontsize='large') \\nplt.title('Count of Successful Campaigns Based on Category')\\n    \\nplt.tight_layout()\";\n",
       "                var nbb_formatted_code = \"plt.figure(figsize=(12, 6))\\n# sns.countplot(x=\\\"category\\\", data=ks_df_success, palette=\\\"coolwarm\\\")\\n# plt.title(\\\"Count of Successful Campaigns Based on Category\\\")\\n# plt.show()\\n\\nplt.figure(figsize=(15, 6))\\nchart = sns.countplot(\\n    x=\\\"category\\\",\\n    data=ks_df[ks_df[\\\"status\\\"] == \\\"successful\\\"],\\n    order=ks_df[ks_df[\\\"status\\\"] == \\\"successful\\\"][\\\"category\\\"].value_counts().index[:13],\\n)\\n\\nchart.set_xticklabels(\\n    chart.get_xticklabels(),\\n    rotation=30,\\n    horizontalalignment=\\\"right\\\",\\n    fontweight=\\\"light\\\",\\n    fontsize=\\\"large\\\",\\n)\\nplt.title(\\\"Count of Successful Campaigns Based on Category\\\")\\n\\nplt.tight_layout()\";\n",
       "                var nbb_cells = Jupyter.notebook.get_cells();\n",
       "                for (var i = 0; i < nbb_cells.length; ++i) {\n",
       "                    if (nbb_cells[i].input_prompt_number == nbb_cell_id) {\n",
       "                        if (nbb_cells[i].get_text() == nbb_unformatted_code) {\n",
       "                             nbb_cells[i].set_text(nbb_formatted_code);\n",
       "                        }\n",
       "                        break;\n",
       "                    }\n",
       "                }\n",
       "            }, 500);\n",
       "            "
      ],
      "text/plain": [
       "<IPython.core.display.Javascript object>"
      ]
     },
     "metadata": {},
     "output_type": "display_data"
    }
   ],
   "source": [
    "plt.figure(figsize=(12,6))\n",
    "#sns.countplot(x=\"category\", data=ks_df_success, palette=\"coolwarm\")\n",
    "#plt.title(\"Count of Successful Campaigns Based on Category\")\n",
    "#plt.show()\n",
    "\n",
    "plt.figure(figsize=(15,6))\n",
    "chart=sns.countplot(\n",
    "    x='category',\n",
    "    data=ks_df[ks_df[\"status\"] == \"successful\"],\n",
    "    order=ks_df[ks_df[\"status\"] == \"successful\"]['category'].value_counts().index[:13]\n",
    ")\n",
    "\n",
    "chart.set_xticklabels(chart.get_xticklabels(),\n",
    "    rotation=30,\n",
    "    horizontalalignment='right',\n",
    "    fontweight='light',\n",
    "    fontsize='large') \n",
    "plt.title('Count of Successful Campaigns Based on Category')\n",
    "    \n",
    "plt.tight_layout()\n"
   ]
  },
  {
   "cell_type": "markdown",
   "metadata": {},
   "source": [
    "### Is there an ideal month/day/time to launch a campaign?"
   ]
  },
  {
   "cell_type": "code",
   "execution_count": 32,
   "metadata": {},
   "outputs": [
    {
     "data": {
      "application/javascript": [
       "\n",
       "            setTimeout(function() {\n",
       "                var nbb_cell_id = 32;\n",
       "                var nbb_unformatted_code = \"# Changing the datetime object\\nks_df[\\\"funded date\\\"] = pd.to_datetime(ks_df[\\\"funded date\\\"])\\n\\n# Extracting Timestamp to generate new columns as Month, Day, Hour and Weekday\\n# ad_df[\\\"Timestamp\\\"].dt.hour\\nks_df[\\\"funded hour\\\"] = ks_df[\\\"funded date\\\"].dt.hour\\nks_df[\\\"funded month\\\"] = ks_df[\\\"funded date\\\"].dt.month\\nks_df[\\\"funded day no\\\"] = ks_df[\\\"funded date\\\"].dt.weekday\\nks_df[\\\"funded day\\\"] = ks_df[\\\"funded date\\\"].dt.day_name()\\nks_df[\\\"funded year\\\"] = ks_df[\\\"funded date\\\"].dt.year\";\n",
       "                var nbb_formatted_code = \"# Changing the datetime object\\nks_df[\\\"funded date\\\"] = pd.to_datetime(ks_df[\\\"funded date\\\"])\\n\\n# Extracting Timestamp to generate new columns as Month, Day, Hour and Weekday\\n# ad_df[\\\"Timestamp\\\"].dt.hour\\nks_df[\\\"funded hour\\\"] = ks_df[\\\"funded date\\\"].dt.hour\\nks_df[\\\"funded month\\\"] = ks_df[\\\"funded date\\\"].dt.month\\nks_df[\\\"funded day no\\\"] = ks_df[\\\"funded date\\\"].dt.weekday\\nks_df[\\\"funded day\\\"] = ks_df[\\\"funded date\\\"].dt.day_name()\\nks_df[\\\"funded year\\\"] = ks_df[\\\"funded date\\\"].dt.year\";\n",
       "                var nbb_cells = Jupyter.notebook.get_cells();\n",
       "                for (var i = 0; i < nbb_cells.length; ++i) {\n",
       "                    if (nbb_cells[i].input_prompt_number == nbb_cell_id) {\n",
       "                        if (nbb_cells[i].get_text() == nbb_unformatted_code) {\n",
       "                             nbb_cells[i].set_text(nbb_formatted_code);\n",
       "                        }\n",
       "                        break;\n",
       "                    }\n",
       "                }\n",
       "            }, 500);\n",
       "            "
      ],
      "text/plain": [
       "<IPython.core.display.Javascript object>"
      ]
     },
     "metadata": {},
     "output_type": "display_data"
    }
   ],
   "source": [
    "# Changing the datetime object\n",
    "ks_df[\"funded date\"] = pd.to_datetime(ks_df[\"funded date\"])\n",
    "\n",
    "# Extracting Timestamp to generate new columns as Month, Day, Hour and Weekday\n",
    "# ad_df[\"Timestamp\"].dt.hour\n",
    "ks_df[\"funded hour\"] = ks_df[\"funded date\"].dt.hour\n",
    "ks_df[\"funded month\"] = ks_df[\"funded date\"].dt.month\n",
    "ks_df[\"funded day no\"] = ks_df[\"funded date\"].dt.weekday\n",
    "ks_df[\"funded day\"] = ks_df[\"funded date\"].dt.day_name()\n",
    "ks_df[\"funded year\"] = ks_df[\"funded date\"].dt.year"
   ]
  },
  {
   "cell_type": "code",
   "execution_count": 33,
   "metadata": {},
   "outputs": [
    {
     "data": {
      "text/html": [
       "<div>\n",
       "<style scoped>\n",
       "    .dataframe tbody tr th:only-of-type {\n",
       "        vertical-align: middle;\n",
       "    }\n",
       "\n",
       "    .dataframe tbody tr th {\n",
       "        vertical-align: top;\n",
       "    }\n",
       "\n",
       "    .dataframe thead th {\n",
       "        text-align: right;\n",
       "    }\n",
       "</style>\n",
       "<table border=\"1\" class=\"dataframe\">\n",
       "  <thead>\n",
       "    <tr style=\"text-align: right;\">\n",
       "      <th></th>\n",
       "      <th>project id</th>\n",
       "      <th>name</th>\n",
       "      <th>url</th>\n",
       "      <th>category</th>\n",
       "      <th>subcategory</th>\n",
       "      <th>location</th>\n",
       "      <th>status</th>\n",
       "      <th>goal</th>\n",
       "      <th>pledged</th>\n",
       "      <th>funded percentage</th>\n",
       "      <th>...</th>\n",
       "      <th>levels</th>\n",
       "      <th>reward levels</th>\n",
       "      <th>updates</th>\n",
       "      <th>comments</th>\n",
       "      <th>duration</th>\n",
       "      <th>funded hour</th>\n",
       "      <th>funded month</th>\n",
       "      <th>funded day no</th>\n",
       "      <th>funded day</th>\n",
       "      <th>funded year</th>\n",
       "    </tr>\n",
       "  </thead>\n",
       "  <tbody>\n",
       "    <tr>\n",
       "      <th>0</th>\n",
       "      <td>39409</td>\n",
       "      <td>WHILE THE TREES SLEEP</td>\n",
       "      <td>http://www.kickstarter.com/projects/emiliesaba...</td>\n",
       "      <td>Film &amp; Video</td>\n",
       "      <td>Short Film</td>\n",
       "      <td>Columbia, MO</td>\n",
       "      <td>successful</td>\n",
       "      <td>10500.0</td>\n",
       "      <td>11545.0</td>\n",
       "      <td>1.099524</td>\n",
       "      <td>...</td>\n",
       "      <td>7</td>\n",
       "      <td>$25,$50,$100,$250,$500,$1,000,$2,500</td>\n",
       "      <td>10</td>\n",
       "      <td>2</td>\n",
       "      <td>30.00</td>\n",
       "      <td>19</td>\n",
       "      <td>8</td>\n",
       "      <td>4</td>\n",
       "      <td>Friday</td>\n",
       "      <td>2011</td>\n",
       "    </tr>\n",
       "    <tr>\n",
       "      <th>1</th>\n",
       "      <td>126581</td>\n",
       "      <td>Educational Online Trading Card Game</td>\n",
       "      <td>http://www.kickstarter.com/projects/972789543/...</td>\n",
       "      <td>Games</td>\n",
       "      <td>Board &amp; Card Games</td>\n",
       "      <td>Maplewood, NJ</td>\n",
       "      <td>failed</td>\n",
       "      <td>4000.0</td>\n",
       "      <td>20.0</td>\n",
       "      <td>0.005000</td>\n",
       "      <td>...</td>\n",
       "      <td>5</td>\n",
       "      <td>$1,$5,$10,$25,$50</td>\n",
       "      <td>6</td>\n",
       "      <td>0</td>\n",
       "      <td>47.18</td>\n",
       "      <td>3</td>\n",
       "      <td>8</td>\n",
       "      <td>0</td>\n",
       "      <td>Monday</td>\n",
       "      <td>2010</td>\n",
       "    </tr>\n",
       "  </tbody>\n",
       "</table>\n",
       "<p>2 rows × 22 columns</p>\n",
       "</div>"
      ],
      "text/plain": [
       "   project id                                  name  \\\n",
       "0       39409                 WHILE THE TREES SLEEP   \n",
       "1      126581  Educational Online Trading Card Game   \n",
       "\n",
       "                                                 url      category  \\\n",
       "0  http://www.kickstarter.com/projects/emiliesaba...  Film & Video   \n",
       "1  http://www.kickstarter.com/projects/972789543/...         Games   \n",
       "\n",
       "          subcategory       location      status     goal  pledged  \\\n",
       "0          Short Film   Columbia, MO  successful  10500.0  11545.0   \n",
       "1  Board & Card Games  Maplewood, NJ      failed   4000.0     20.0   \n",
       "\n",
       "   funded percentage  ...  levels                         reward levels  \\\n",
       "0           1.099524  ...       7  $25,$50,$100,$250,$500,$1,000,$2,500   \n",
       "1           0.005000  ...       5                     $1,$5,$10,$25,$50   \n",
       "\n",
       "   updates comments  duration  funded hour  funded month  funded day no  \\\n",
       "0       10        2     30.00           19             8              4   \n",
       "1        6        0     47.18            3             8              0   \n",
       "\n",
       "   funded day  funded year  \n",
       "0      Friday         2011  \n",
       "1      Monday         2010  \n",
       "\n",
       "[2 rows x 22 columns]"
      ]
     },
     "execution_count": 33,
     "metadata": {},
     "output_type": "execute_result"
    },
    {
     "data": {
      "application/javascript": [
       "\n",
       "            setTimeout(function() {\n",
       "                var nbb_cell_id = 33;\n",
       "                var nbb_unformatted_code = \"ks_df.head(2)\";\n",
       "                var nbb_formatted_code = \"ks_df.head(2)\";\n",
       "                var nbb_cells = Jupyter.notebook.get_cells();\n",
       "                for (var i = 0; i < nbb_cells.length; ++i) {\n",
       "                    if (nbb_cells[i].input_prompt_number == nbb_cell_id) {\n",
       "                        if (nbb_cells[i].get_text() == nbb_unformatted_code) {\n",
       "                             nbb_cells[i].set_text(nbb_formatted_code);\n",
       "                        }\n",
       "                        break;\n",
       "                    }\n",
       "                }\n",
       "            }, 500);\n",
       "            "
      ],
      "text/plain": [
       "<IPython.core.display.Javascript object>"
      ]
     },
     "metadata": {},
     "output_type": "display_data"
    }
   ],
   "source": [
    "ks_df.head(2)"
   ]
  },
  {
   "cell_type": "code",
   "execution_count": 34,
   "metadata": {},
   "outputs": [
    {
     "data": {
      "text/plain": [
       "Text(0.5, 1.0, 'Successful Campaigns by funded hour distribution')"
      ]
     },
     "execution_count": 34,
     "metadata": {},
     "output_type": "execute_result"
    },
    {
     "data": {
      "image/png": "[encoded data removed]",
      "text/plain": [
       "<Figure size 864x432 with 1 Axes>"
      ]
     },
     "metadata": {
      "needs_background": "light"
     },
     "output_type": "display_data"
    },
    {
     "data": {
      "application/javascript": [
       "\n",
       "            setTimeout(function() {\n",
       "                var nbb_cell_id = 34;\n",
       "                var nbb_unformatted_code = \"# Hourly distribution of succsessful campaigns\\nplt.figure(figsize=(12, 6))\\nsns.countplot(\\n    x=\\\"funded hour\\\", data=ks_df[ks_df[\\\"status\\\"] == \\\"successful\\\"], palette=\\\"magma\\\"\\n)\\nplt.title(\\\"Successful Campaigns by funded hour distribution\\\")\";\n",
       "                var nbb_formatted_code = \"# Hourly distribution of succsessful campaigns\\nplt.figure(figsize=(12, 6))\\nsns.countplot(\\n    x=\\\"funded hour\\\", data=ks_df[ks_df[\\\"status\\\"] == \\\"successful\\\"], palette=\\\"magma\\\"\\n)\\nplt.title(\\\"Successful Campaigns by funded hour distribution\\\")\";\n",
       "                var nbb_cells = Jupyter.notebook.get_cells();\n",
       "                for (var i = 0; i < nbb_cells.length; ++i) {\n",
       "                    if (nbb_cells[i].input_prompt_number == nbb_cell_id) {\n",
       "                        if (nbb_cells[i].get_text() == nbb_unformatted_code) {\n",
       "                             nbb_cells[i].set_text(nbb_formatted_code);\n",
       "                        }\n",
       "                        break;\n",
       "                    }\n",
       "                }\n",
       "            }, 500);\n",
       "            "
      ],
      "text/plain": [
       "<IPython.core.display.Javascript object>"
      ]
     },
     "metadata": {},
     "output_type": "display_data"
    }
   ],
   "source": [
    "# Hourly distribution of succsessful campaigns\n",
    "plt.figure(figsize=(12, 6))\n",
    "sns.countplot(\n",
    "    x=\"funded hour\", data=ks_df[ks_df[\"status\"] == \"successful\"], palette=\"magma\"\n",
    ")\n",
    "plt.title(\"Successful Campaigns by funded hour distribution\")"
   ]
  },
  {
   "cell_type": "markdown",
   "metadata": {},
   "source": [
    "The most uccessful campaigns were funded at 3-4am "
   ]
  },
  {
   "cell_type": "code",
   "execution_count": 35,
   "metadata": {},
   "outputs": [
    {
     "data": {
      "text/plain": [
       "Text(0.5, 1.0, 'Successful Campaigns by funded day distribution')"
      ]
     },
     "execution_count": 35,
     "metadata": {},
     "output_type": "execute_result"
    },
    {
     "data": {
      "image/png": "[encoded data removed]",
      "text/plain": [
       "<Figure size 864x432 with 1 Axes>"
      ]
     },
     "metadata": {
      "needs_background": "light"
     },
     "output_type": "display_data"
    },
    {
     "data": {
      "application/javascript": [
       "\n",
       "            setTimeout(function() {\n",
       "                var nbb_cell_id = 35;\n",
       "                var nbb_unformatted_code = \"# Dayly distribution of succsessful campaigns\\nplt.figure(figsize=(12, 6))\\nsns.countplot(\\n    x=\\\"funded day\\\", data=ks_df[ks_df[\\\"status\\\"] == \\\"successful\\\"], palette=\\\"magma\\\"\\n)\\nplt.title(\\\"Successful Campaigns by funded day distribution\\\")\";\n",
       "                var nbb_formatted_code = \"# Dayly distribution of succsessful campaigns\\nplt.figure(figsize=(12, 6))\\nsns.countplot(\\n    x=\\\"funded day\\\", data=ks_df[ks_df[\\\"status\\\"] == \\\"successful\\\"], palette=\\\"magma\\\"\\n)\\nplt.title(\\\"Successful Campaigns by funded day distribution\\\")\";\n",
       "                var nbb_cells = Jupyter.notebook.get_cells();\n",
       "                for (var i = 0; i < nbb_cells.length; ++i) {\n",
       "                    if (nbb_cells[i].input_prompt_number == nbb_cell_id) {\n",
       "                        if (nbb_cells[i].get_text() == nbb_unformatted_code) {\n",
       "                             nbb_cells[i].set_text(nbb_formatted_code);\n",
       "                        }\n",
       "                        break;\n",
       "                    }\n",
       "                }\n",
       "            }, 500);\n",
       "            "
      ],
      "text/plain": [
       "<IPython.core.display.Javascript object>"
      ]
     },
     "metadata": {},
     "output_type": "display_data"
    }
   ],
   "source": [
    "# Dayly distribution of succsessful campaigns\n",
    "plt.figure(figsize=(12, 6))\n",
    "sns.countplot(\n",
    "    x=\"funded day\", data=ks_df[ks_df[\"status\"] == \"successful\"], palette=\"magma\"\n",
    ")\n",
    "plt.title(\"Successful Campaigns by funded day distribution\")"
   ]
  },
  {
   "cell_type": "markdown",
   "metadata": {},
   "source": [
    "Not a big difference but he most uccessful campaigns were funded Saturdays."
   ]
  },
  {
   "cell_type": "code",
   "execution_count": 36,
   "metadata": {},
   "outputs": [
    {
     "data": {
      "text/plain": [
       "Text(0.5, 1.0, 'Successful Campaigns by funded month distribution')"
      ]
     },
     "execution_count": 36,
     "metadata": {},
     "output_type": "execute_result"
    },
    {
     "data": {
      "image/png": "[encoded data removed]",
      "text/plain": [
       "<Figure size 864x432 with 1 Axes>"
      ]
     },
     "metadata": {
      "needs_background": "light"
     },
     "output_type": "display_data"
    },
    {
     "data": {
      "application/javascript": [
       "\n",
       "            setTimeout(function() {\n",
       "                var nbb_cell_id = 36;\n",
       "                var nbb_unformatted_code = \"# Monthly distribution of succsessful campaigns\\nplt.figure(figsize=(12, 6))\\nsns.countplot(\\n    x=\\\"funded month\\\", data=ks_df[ks_df[\\\"status\\\"] == \\\"successful\\\"], palette=\\\"magma\\\"\\n)\\nplt.title(\\\"Successful Campaigns by funded month distribution\\\")\";\n",
       "                var nbb_formatted_code = \"# Monthly distribution of succsessful campaigns\\nplt.figure(figsize=(12, 6))\\nsns.countplot(\\n    x=\\\"funded month\\\", data=ks_df[ks_df[\\\"status\\\"] == \\\"successful\\\"], palette=\\\"magma\\\"\\n)\\nplt.title(\\\"Successful Campaigns by funded month distribution\\\")\";\n",
       "                var nbb_cells = Jupyter.notebook.get_cells();\n",
       "                for (var i = 0; i < nbb_cells.length; ++i) {\n",
       "                    if (nbb_cells[i].input_prompt_number == nbb_cell_id) {\n",
       "                        if (nbb_cells[i].get_text() == nbb_unformatted_code) {\n",
       "                             nbb_cells[i].set_text(nbb_formatted_code);\n",
       "                        }\n",
       "                        break;\n",
       "                    }\n",
       "                }\n",
       "            }, 500);\n",
       "            "
      ],
      "text/plain": [
       "<IPython.core.display.Javascript object>"
      ]
     },
     "metadata": {},
     "output_type": "display_data"
    }
   ],
   "source": [
    "# Monthly distribution of succsessful campaigns\n",
    "plt.figure(figsize=(12, 6))\n",
    "sns.countplot(\n",
    "    x=\"funded month\", data=ks_df[ks_df[\"status\"] == \"successful\"], palette=\"magma\"\n",
    ")\n",
    "plt.title(\"Successful Campaigns by funded month distribution\")"
   ]
  },
  {
   "cell_type": "markdown",
   "metadata": {},
   "source": [
    "The most successful campaigns were funded in spring, March - May."
   ]
  },
  {
   "cell_type": "code",
   "execution_count": 37,
   "metadata": {},
   "outputs": [
    {
     "data": {
      "text/plain": [
       "2011    20182\n",
       "2012    17822\n",
       "2010     7253\n",
       "2009      700\n",
       "Name: funded year, dtype: int64"
      ]
     },
     "execution_count": 37,
     "metadata": {},
     "output_type": "execute_result"
    },
    {
     "data": {
      "application/javascript": [
       "\n",
       "            setTimeout(function() {\n",
       "                var nbb_cell_id = 37;\n",
       "                var nbb_unformatted_code = \"ks_df[\\\"funded year\\\"].value_counts()\";\n",
       "                var nbb_formatted_code = \"ks_df[\\\"funded year\\\"].value_counts()\";\n",
       "                var nbb_cells = Jupyter.notebook.get_cells();\n",
       "                for (var i = 0; i < nbb_cells.length; ++i) {\n",
       "                    if (nbb_cells[i].input_prompt_number == nbb_cell_id) {\n",
       "                        if (nbb_cells[i].get_text() == nbb_unformatted_code) {\n",
       "                             nbb_cells[i].set_text(nbb_formatted_code);\n",
       "                        }\n",
       "                        break;\n",
       "                    }\n",
       "                }\n",
       "            }, 500);\n",
       "            "
      ],
      "text/plain": [
       "<IPython.core.display.Javascript object>"
      ]
     },
     "metadata": {},
     "output_type": "display_data"
    }
   ],
   "source": [
    "ks_df[\"funded year\"].value_counts()"
   ]
  },
  {
   "cell_type": "markdown",
   "metadata": {},
   "source": [
    "Future analysis might include the location of the campaign- continents, countries, states for US"
   ]
  },
  {
   "cell_type": "code",
   "execution_count": null,
   "metadata": {},
   "outputs": [],
   "source": []
  }
 ],
 "metadata": {
  "kernelspec": {
   "display_name": "Python 3",
   "language": "python",
   "name": "python3"
  },
  "language_info": {
   "codemirror_mode": {
    "name": "ipython",
    "version": 3
   },
   "file_extension": ".py",
   "mimetype": "text/x-python",
   "name": "python",
   "nbconvert_exporter": "python",
   "pygments_lexer": "ipython3",
   "version": "3.8.5"
  }
 },
 "nbformat": 4,
 "nbformat_minor": 4
}
